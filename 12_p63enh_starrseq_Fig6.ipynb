{
 "cells": [
  {
   "cell_type": "markdown",
   "metadata": {},
   "source": [
    "## Figure 6. Element activity in TAp63B overexpression cell line"
   ]
  },
  {
   "cell_type": "code",
   "execution_count": 4,
   "metadata": {},
   "outputs": [
    {
     "data": {
      "text/html": [
       "<div>\n",
       "<style scoped>\n",
       "    .dataframe tbody tr th:only-of-type {\n",
       "        vertical-align: middle;\n",
       "    }\n",
       "\n",
       "    .dataframe tbody tr th {\n",
       "        vertical-align: top;\n",
       "    }\n",
       "\n",
       "    .dataframe thead th {\n",
       "        text-align: right;\n",
       "    }\n",
       "</style>\n",
       "<table border=\"1\" class=\"dataframe\">\n",
       "  <thead>\n",
       "    <tr style=\"text-align: right;\">\n",
       "      <th></th>\n",
       "      <th>loc</th>\n",
       "      <th>enhancer_variant</th>\n",
       "      <th>cell_line</th>\n",
       "      <th>RNA/DNA</th>\n",
       "      <th>activity</th>\n",
       "      <th>obs_score</th>\n",
       "      <th>p63RE_class</th>\n",
       "      <th>strand</th>\n",
       "      <th>p63RE_type</th>\n",
       "      <th>gc</th>\n",
       "      <th>obs_p53</th>\n",
       "    </tr>\n",
       "  </thead>\n",
       "  <tbody>\n",
       "    <tr>\n",
       "      <th>21175</th>\n",
       "      <td>chr10_8225037_8225056</td>\n",
       "      <td>mut</td>\n",
       "      <td>GUS</td>\n",
       "      <td>0.928242</td>\n",
       "      <td>Repressing</td>\n",
       "      <td>10</td>\n",
       "      <td>primary</td>\n",
       "      <td>+</td>\n",
       "      <td>p53RE+p63RE</td>\n",
       "      <td>51.260504</td>\n",
       "      <td>NaN</td>\n",
       "    </tr>\n",
       "    <tr>\n",
       "      <th>3592</th>\n",
       "      <td>chr16_49702895_49702909</td>\n",
       "      <td>WT</td>\n",
       "      <td>GUS</td>\n",
       "      <td>0.312157</td>\n",
       "      <td>Repressing</td>\n",
       "      <td>14</td>\n",
       "      <td>tertiary</td>\n",
       "      <td>-</td>\n",
       "      <td>Unique p63RE</td>\n",
       "      <td>57.500000</td>\n",
       "      <td>NaN</td>\n",
       "    </tr>\n",
       "    <tr>\n",
       "      <th>29</th>\n",
       "      <td>chr10_80619243_80619262</td>\n",
       "      <td>WT</td>\n",
       "      <td>GUS</td>\n",
       "      <td>3.383853</td>\n",
       "      <td>Activating</td>\n",
       "      <td>20</td>\n",
       "      <td>primary</td>\n",
       "      <td>+</td>\n",
       "      <td>p53RE+p63RE</td>\n",
       "      <td>55.462185</td>\n",
       "      <td>16.0</td>\n",
       "    </tr>\n",
       "    <tr>\n",
       "      <th>33956</th>\n",
       "      <td>chr19_36150195_36150209</td>\n",
       "      <td>WT</td>\n",
       "      <td>TAp63B</td>\n",
       "      <td>1.406129</td>\n",
       "      <td>Unchanged</td>\n",
       "      <td>11</td>\n",
       "      <td>tertiary</td>\n",
       "      <td>+</td>\n",
       "      <td>Unique p63RE</td>\n",
       "      <td>65.000000</td>\n",
       "      <td>NaN</td>\n",
       "    </tr>\n",
       "    <tr>\n",
       "      <th>12751</th>\n",
       "      <td>chr4_102201197_102201221</td>\n",
       "      <td>WT</td>\n",
       "      <td>GUS</td>\n",
       "      <td>0.521607</td>\n",
       "      <td>Unchanged</td>\n",
       "      <td>8</td>\n",
       "      <td>primary</td>\n",
       "      <td>-</td>\n",
       "      <td>Unique p63RE</td>\n",
       "      <td>55.000000</td>\n",
       "      <td>NaN</td>\n",
       "    </tr>\n",
       "  </tbody>\n",
       "</table>\n",
       "</div>"
      ],
      "text/plain": [
       "                            loc enhancer_variant cell_line   RNA/DNA  \\\n",
       "21175     chr10_8225037_8225056              mut       GUS  0.928242   \n",
       "3592    chr16_49702895_49702909               WT       GUS  0.312157   \n",
       "29      chr10_80619243_80619262               WT       GUS  3.383853   \n",
       "33956   chr19_36150195_36150209               WT    TAp63B  1.406129   \n",
       "12751  chr4_102201197_102201221               WT       GUS  0.521607   \n",
       "\n",
       "         activity  obs_score p63RE_class strand    p63RE_type         gc  \\\n",
       "21175  Repressing         10     primary      +   p53RE+p63RE  51.260504   \n",
       "3592   Repressing         14    tertiary      -  Unique p63RE  57.500000   \n",
       "29     Activating         20     primary      +   p53RE+p63RE  55.462185   \n",
       "33956   Unchanged         11    tertiary      +  Unique p63RE  65.000000   \n",
       "12751   Unchanged          8     primary      -  Unique p63RE  55.000000   \n",
       "\n",
       "       obs_p53  \n",
       "21175      NaN  \n",
       "3592       NaN  \n",
       "29        16.0  \n",
       "33956      NaN  \n",
       "12751      NaN  "
      ]
     },
     "execution_count": 4,
     "metadata": {},
     "output_type": "execute_result"
    }
   ],
   "source": [
    "#import libraries\n",
    "import pandas as pd\n",
    "import seaborn as sns\n",
    "import matplotlib.pyplot as plt\n",
    "from matplotlib.patches import Patch\n",
    "import os\n",
    "import numpy as np\n",
    "from statannotations.Annotator import Annotator\n",
    "import warnings\n",
    "warnings.filterwarnings('ignore')\n",
    "#set seaborn theme for nice figures\n",
    "sns.set_theme(style=\"ticks\",rc={\"axes.spines.right\": False, \"axes.spines.top\": False, 'font.size':10}, font='arial')\n",
    "act_palette = {'Activating': sns.color_palette('RdYlBu')[-1], 'Repressing':sns.color_palette('RdYlBu')[0],\n",
    "\t\t\t   'Unchanged':sns.color_palette('RdGy')[4]}\n",
    "#import key tables\n",
    "os.chdir('..\\data')\n",
    "fig_out_path = r'..\\figures'\n",
    "df_fc_tap63b = pd.read_csv('p63enh_starrseq_log2fc_matched_MCF10A_GUSTAp63B_WTmut.csv', index_col=0)\n",
    "df = pd.read_excel('Table S3.xlsx', sheet_name='MCF10A_GUS_TAp63B')\n",
    "df.sample(5)"
   ]
  },
  {
   "cell_type": "markdown",
   "metadata": {},
   "source": [
    "## Figure 6D."
   ]
  },
  {
   "cell_type": "code",
   "execution_count": 5,
   "metadata": {},
   "outputs": [
    {
     "name": "stdout",
     "output_type": "stream",
     "text": [
      "p-value annotation legend:\n",
      "      ns: 5.00e-02 < p <= 1.00e+00\n",
      "       *: 1.00e-02 < p <= 5.00e-02\n",
      "      **: 1.00e-03 < p <= 1.00e-02\n",
      "     ***: 1.00e-04 < p <= 1.00e-03\n",
      "    ****: p <= 1.00e-04\n",
      "\n",
      "GUS_WT vs. TAp63β_WT: Wilcoxon test (paired samples), P_val:3.166e-208 Stat=3.179e+07\n"
     ]
    },
    {
     "data": {
      "image/png": "[encoded data removed]",
      "text/plain": [
       "<Figure size 250x300 with 1 Axes>"
      ]
     },
     "metadata": {},
     "output_type": "display_data"
    }
   ],
   "source": [
    "fig, ax = plt.subplots(figsize=(2.5,3))\n",
    "df = df[df.enhancer_variant.isin(['WT', 'mut'])]\n",
    "df.replace({'TAp63B':'TAp63β', 'pGus':'GUS'}, inplace=True)\n",
    "cols = {'WT':'forestgreen', 'mut':'crimson'}\n",
    "compare = [[('GUS','WT'),('TAp63β','WT')]]\n",
    "sns.boxplot(data = df, x = 'cell_line',y = 'RNA/DNA',hue = 'enhancer_variant', width=0.7, palette = cols, showfliers = False, ax=ax).set(xlabel='Cell line')\n",
    "annotator = Annotator(pairs = compare, data = df, x = 'cell_line',y = 'RNA/DNA',hue = 'enhancer_variant', ax=ax)\n",
    "annotator.configure(test = \"Wilcoxon\").apply_and_annotate()\n",
    "ax.legend(frameon = False, title = 'p63RE variant')\n",
    "sns.move_legend(ax, \"upper left\", bbox_to_anchor=(0.7, 1))\n",
    "fig.savefig(os.path.join(fig_out_path,'6D.eps'), dpi=300, transparent=True, bbox_inches='tight')"
   ]
  },
  {
   "cell_type": "code",
   "execution_count": 6,
   "metadata": {},
   "outputs": [
    {
     "data": {
      "text/plain": [
       "cell_line  activity    p63RE_type  \n",
       "GUS        Unchanged   Unique p63RE    4945\n",
       "TAp63B     Activating  p53RE+p63RE     4888\n",
       "                       Unique p63RE    4278\n",
       "GUS        Activating  p53RE+p63RE     3116\n",
       "TAp63B     Unchanged   Unique p63RE    2906\n",
       "GUS        Unchanged   p53RE+p63RE     2674\n",
       "           Activating  Unique p63RE    1399\n",
       "TAp63B     Unchanged   p53RE+p63RE     1294\n",
       "GUS        Repressing  Unique p63RE     956\n",
       "                       p53RE+p63RE      442\n",
       "TAp63B     Repressing  Unique p63RE     116\n",
       "                       p53RE+p63RE       50\n",
       "dtype: int64"
      ]
     },
     "execution_count": 6,
     "metadata": {},
     "output_type": "execute_result"
    }
   ],
   "source": [
    "#check numbers\n",
    "df_fc_tap63b.value_counts(subset=['cell_line', 'activity','p63RE_type'])"
   ]
  },
  {
   "cell_type": "markdown",
   "metadata": {},
   "source": [
    "## Figure 6E."
   ]
  },
  {
   "cell_type": "code",
   "execution_count": 7,
   "metadata": {},
   "outputs": [
    {
     "data": {
      "image/png": "[encoded data removed]",
      "text/plain": [
       "<Figure size 200x300 with 1 Axes>"
      ]
     },
     "metadata": {},
     "output_type": "display_data"
    }
   ],
   "source": [
    "#separate into 4 groups and label them\n",
    "fig, ax = plt.subplots(figsize=(2,3))\n",
    "df_fc_tap63b['xlabel'] = df_fc_tap63b.apply(lambda row: row.cell_line + '\\n' + row.p63RE_type, axis='columns')\n",
    "df_fc_tap63b.replace({'TAp63B\\np53RE+p63RE':'TAp63β\\np53RE+p63RE','TAp63B\\nUnique p63RE':'TAp63β\\nUnique p63RE','pGus\\np53RE+p63RE':'GUS\\np53RE+p63RE','pGus\\nUnique p63RE':'GUS\\nUnique p63RE',}, inplace=True)\n",
    "df_fc_tap63b['xlabel'] = pd.Categorical(df_fc_tap63b['xlabel'], ['GUS\\np53RE+p63RE','TAp63β\\np53RE+p63RE','GUS\\nUnique p63RE','TAp63β\\nUnique p63RE'])\n",
    "sns.histplot(\n",
    "    data=df_fc_tap63b,\n",
    "    x=\"xlabel\", hue=\"activity\", hue_order=['Activating', 'Unchanged','Repressing'],\n",
    "    multiple=\"fill\", stat=\"percent\", palette= act_palette,\n",
    "    discrete=True, shrink=.6,ax=ax).set(ylabel = 'Fraction of regulatory elements',xlabel=None)\n",
    "ax.set_xticklabels(ax.get_xticklabels(),rotation=90, size=10)\n",
    "sns.move_legend(ax, \"upper left\", bbox_to_anchor=(0.98, 1), frameon=False, title = 'p63RE-dependent\\nactivity')\n",
    "fig.savefig(os.path.join(fig_out_path,'6E.pdf'), dpi=300, transparent=True, bbox_inches='tight')"
   ]
  }
 ],
 "metadata": {
  "kernelspec": {
   "display_name": "Python 3",
   "language": "python",
   "name": "python3"
  },
  "language_info": {
   "codemirror_mode": {
    "name": "ipython",
    "version": 3
   },
   "file_extension": ".py",
   "mimetype": "text/x-python",
   "name": "python",
   "nbconvert_exporter": "python",
   "pygments_lexer": "ipython3",
   "version": "3.10.7"
  }
 },
 "nbformat": 4,
 "nbformat_minor": 2
}
