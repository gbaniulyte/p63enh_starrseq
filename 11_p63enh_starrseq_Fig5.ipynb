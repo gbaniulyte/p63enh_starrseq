{
 "cells": [
  {
   "cell_type": "markdown",
   "metadata": {},
   "source": [
    "# Firgure 5. Element activity and cell context."
   ]
  },
  {
   "cell_type": "code",
   "execution_count": 1,
   "metadata": {},
   "outputs": [],
   "source": [
    "#import libraries\n",
    "import pandas as pd\n",
    "import seaborn as sns\n",
    "import matplotlib.pyplot as plt\n",
    "from matplotlib.patches import Patch\n",
    "import os\n",
    "import numpy as np\n",
    "from statannotations.Annotator import Annotator\n",
    "import warnings\n",
    "warnings.filterwarnings('ignore')\n",
    "#set seaborn theme for nice figures\n",
    "sns.set_theme(style=\"ticks\",rc={\"axes.spines.right\": False, \"axes.spines.top\": False, 'font.size':10}, font='arial')\n",
    "act_palette = {'Activating': sns.color_palette('RdYlBu')[-1], 'Repressing':sns.color_palette('RdYlBu')[0],\n",
    "\t\t\t   'Unchanged':sns.color_palette('RdGy')[4]}\n",
    "#import key tables\n",
    "os.chdir('..\\data')\n",
    "fig_out_path = r'..\\figures'"
   ]
  },
  {
   "cell_type": "code",
   "execution_count": 2,
   "metadata": {},
   "outputs": [
    {
     "data": {
      "text/html": [
       "<div>\n",
       "<style scoped>\n",
       "    .dataframe tbody tr th:only-of-type {\n",
       "        vertical-align: middle;\n",
       "    }\n",
       "\n",
       "    .dataframe tbody tr th {\n",
       "        vertical-align: top;\n",
       "    }\n",
       "\n",
       "    .dataframe thead th {\n",
       "        text-align: right;\n",
       "    }\n",
       "</style>\n",
       "<table border=\"1\" class=\"dataframe\">\n",
       "  <thead>\n",
       "    <tr style=\"text-align: right;\">\n",
       "      <th></th>\n",
       "      <th>loc</th>\n",
       "      <th>cell_line</th>\n",
       "      <th>WT</th>\n",
       "      <th>mut</th>\n",
       "      <th>log2(WT/mut)</th>\n",
       "      <th>activity</th>\n",
       "      <th>obs_score</th>\n",
       "      <th>p63RE_class</th>\n",
       "      <th>strand</th>\n",
       "      <th>p63RE_type</th>\n",
       "      <th>obs_p53</th>\n",
       "    </tr>\n",
       "  </thead>\n",
       "  <tbody>\n",
       "    <tr>\n",
       "      <th>2036</th>\n",
       "      <td>chr11_18168463_18168487</td>\n",
       "      <td>SCC25</td>\n",
       "      <td>2.023744</td>\n",
       "      <td>1.268216</td>\n",
       "      <td>0.674227</td>\n",
       "      <td>Activating</td>\n",
       "      <td>9</td>\n",
       "      <td>primary</td>\n",
       "      <td>-</td>\n",
       "      <td>Unique p63RE</td>\n",
       "      <td>NaN</td>\n",
       "    </tr>\n",
       "    <tr>\n",
       "      <th>13786</th>\n",
       "      <td>chr1_90162434_90162458</td>\n",
       "      <td>MCF10A p53KO</td>\n",
       "      <td>0.386791</td>\n",
       "      <td>0.783249</td>\n",
       "      <td>-1.017916</td>\n",
       "      <td>Repressing</td>\n",
       "      <td>16</td>\n",
       "      <td>primary</td>\n",
       "      <td>+</td>\n",
       "      <td>Unique p63RE</td>\n",
       "      <td>NaN</td>\n",
       "    </tr>\n",
       "    <tr>\n",
       "      <th>16364</th>\n",
       "      <td>chr2_14297493_14297507</td>\n",
       "      <td>SCC25</td>\n",
       "      <td>0.574506</td>\n",
       "      <td>0.678594</td>\n",
       "      <td>-0.240226</td>\n",
       "      <td>Unchanged</td>\n",
       "      <td>12</td>\n",
       "      <td>tertiary</td>\n",
       "      <td>-</td>\n",
       "      <td>Unique p63RE</td>\n",
       "      <td>NaN</td>\n",
       "    </tr>\n",
       "    <tr>\n",
       "      <th>21843</th>\n",
       "      <td>chr5_135386354_135386378</td>\n",
       "      <td>HaCaT</td>\n",
       "      <td>1.272226</td>\n",
       "      <td>1.066930</td>\n",
       "      <td>0.253890</td>\n",
       "      <td>Unchanged</td>\n",
       "      <td>17</td>\n",
       "      <td>primary</td>\n",
       "      <td>-</td>\n",
       "      <td>Unique p63RE</td>\n",
       "      <td>NaN</td>\n",
       "    </tr>\n",
       "    <tr>\n",
       "      <th>22617</th>\n",
       "      <td>chr5_31948242_31948261</td>\n",
       "      <td>HaCaT</td>\n",
       "      <td>0.793820</td>\n",
       "      <td>1.581768</td>\n",
       "      <td>-0.994654</td>\n",
       "      <td>Repressing</td>\n",
       "      <td>20</td>\n",
       "      <td>primary</td>\n",
       "      <td>+</td>\n",
       "      <td>p53RE+p63RE</td>\n",
       "      <td>NaN</td>\n",
       "    </tr>\n",
       "  </tbody>\n",
       "</table>\n",
       "</div>"
      ],
      "text/plain": [
       "                            loc     cell_line        WT       mut  \\\n",
       "2036    chr11_18168463_18168487         SCC25  2.023744  1.268216   \n",
       "13786    chr1_90162434_90162458  MCF10A p53KO  0.386791  0.783249   \n",
       "16364    chr2_14297493_14297507         SCC25  0.574506  0.678594   \n",
       "21843  chr5_135386354_135386378         HaCaT  1.272226  1.066930   \n",
       "22617    chr5_31948242_31948261         HaCaT  0.793820  1.581768   \n",
       "\n",
       "       log2(WT/mut)    activity  obs_score p63RE_class strand    p63RE_type  \\\n",
       "2036       0.674227  Activating          9     primary      -  Unique p63RE   \n",
       "13786     -1.017916  Repressing         16     primary      +  Unique p63RE   \n",
       "16364     -0.240226   Unchanged         12    tertiary      -  Unique p63RE   \n",
       "21843      0.253890   Unchanged         17     primary      -  Unique p63RE   \n",
       "22617     -0.994654  Repressing         20     primary      +   p53RE+p63RE   \n",
       "\n",
       "       obs_p53  \n",
       "2036       NaN  \n",
       "13786      NaN  \n",
       "16364      NaN  \n",
       "21843      NaN  \n",
       "22617      NaN  "
      ]
     },
     "execution_count": 2,
     "metadata": {},
     "output_type": "execute_result"
    }
   ],
   "source": [
    "#import tables\n",
    "df_fc = pd.read_csv('p63enh_starrseq_log2fc_matched_MCF10Ap53KO_HaCaT_SCC25_WTmut.csv', index_col=0)\n",
    "df_fc_tap63b = pd.read_csv('p63enh_starrseq_log2fc_matched_MCF10A_GUSTAp63B_WTmut.csv', index_col=0)\n",
    "df = pd.read_excel('Table S3.xlsx', sheet_name='MCF10A_GUS_TAp63B')\n",
    "df_fc.sample(5)"
   ]
  },
  {
   "cell_type": "code",
   "execution_count": 3,
   "metadata": {},
   "outputs": [
    {
     "name": "stdout",
     "output_type": "stream",
     "text": [
      "1015\n"
     ]
    }
   ],
   "source": [
    "#shared activating\n",
    "locs = df_fc[(df_fc.activity == 'Activating') & (df_fc.cell_line != 'HaCaT')]['loc'].tolist()\n",
    "from collections import Counter\n",
    "c = Counter(locs)\n",
    "n=0\n",
    "for k,v in c.items():\n",
    "\tif v == 2: n+=1\n",
    "print(n)"
   ]
  },
  {
   "cell_type": "markdown",
   "metadata": {},
   "source": [
    "## Figure 5B"
   ]
  },
  {
   "cell_type": "code",
   "execution_count": 3,
   "metadata": {},
   "outputs": [
    {
     "data": {
      "image/png": "[encoded data removed]",
      "text/plain": [
       "<Figure size 150x300 with 1 Axes>"
      ]
     },
     "metadata": {},
     "output_type": "display_data"
    }
   ],
   "source": [
    "#5B stacked barchart\n",
    "df_cp = df_fc.copy()\n",
    "p53_name = 'MCF10A\\n$\\it{TP53}$-/-'\n",
    "df_cp.replace({'MCF10A p53KO':p53_name}, inplace=True)\n",
    "df_cp['cell_line'] = pd.Categorical(df_cp['cell_line'], ['HaCaT',p53_name,'SCC25'])\n",
    "fig, ax = plt.subplots(figsize=(1.5,3))\n",
    "sns.histplot(\n",
    "    data=df_cp,\n",
    "    x=\"cell_line\", hue=\"activity\", hue_order=['Activating', 'Unchanged','Repressing'],\n",
    "    multiple=\"fill\", stat=\"percent\", palette= act_palette,\n",
    "    discrete=True, shrink=.6,ax=ax).set(ylabel = 'Fraction of regulatory elements',xlabel=None)\n",
    "ax.set_xticklabels(ax.get_xticklabels(),rotation=90, size=10)\n",
    "sns.move_legend(ax, \"upper left\", bbox_to_anchor=(1, 1), frameon=False, title = 'p63RE-dependent activity')\n",
    "fig.savefig(os.path.join(fig_out_path,'5B.pdf'), dpi=300, transparent=True, bbox_inches='tight')"
   ]
  },
  {
   "cell_type": "markdown",
   "metadata": {},
   "source": [
    "## Figure 5C\n",
    " - Reformat data for sankey plot"
   ]
  },
  {
   "cell_type": "code",
   "execution_count": 1,
   "metadata": {},
   "outputs": [
    {
     "data": {
      "text/html": [
       "<div>\n",
       "<style scoped>\n",
       "    .dataframe tbody tr th:only-of-type {\n",
       "        vertical-align: middle;\n",
       "    }\n",
       "\n",
       "    .dataframe tbody tr th {\n",
       "        vertical-align: top;\n",
       "    }\n",
       "\n",
       "    .dataframe thead th {\n",
       "        text-align: right;\n",
       "    }\n",
       "</style>\n",
       "<table border=\"1\" class=\"dataframe\">\n",
       "  <thead>\n",
       "    <tr style=\"text-align: right;\">\n",
       "      <th></th>\n",
       "      <th>MCF10A p53KO</th>\n",
       "      <th>SCC25</th>\n",
       "      <th>count</th>\n",
       "      <th>source</th>\n",
       "      <th>target</th>\n",
       "      <th>color</th>\n",
       "    </tr>\n",
       "  </thead>\n",
       "  <tbody>\n",
       "    <tr>\n",
       "      <th>0</th>\n",
       "      <td>MCF10A p53KO, Unchanged</td>\n",
       "      <td>SCC25, Unchanged</td>\n",
       "      <td>3532</td>\n",
       "      <td>8</td>\n",
       "      <td>3</td>\n",
       "      <td>silver</td>\n",
       "    </tr>\n",
       "    <tr>\n",
       "      <th>1</th>\n",
       "      <td>MCF10A p53KO, Unchanged</td>\n",
       "      <td>SCC25, Repressing</td>\n",
       "      <td>1526</td>\n",
       "      <td>8</td>\n",
       "      <td>0</td>\n",
       "      <td>silver</td>\n",
       "    </tr>\n",
       "    <tr>\n",
       "      <th>2</th>\n",
       "      <td>MCF10A p53KO, Unchanged</td>\n",
       "      <td>SCC25, Activating</td>\n",
       "      <td>1311</td>\n",
       "      <td>8</td>\n",
       "      <td>2</td>\n",
       "      <td>silver</td>\n",
       "    </tr>\n",
       "    <tr>\n",
       "      <th>3</th>\n",
       "      <td>MCF10A p53KO, Activating</td>\n",
       "      <td>SCC25, Unchanged</td>\n",
       "      <td>1277</td>\n",
       "      <td>1</td>\n",
       "      <td>3</td>\n",
       "      <td>cornflowerblue</td>\n",
       "    </tr>\n",
       "    <tr>\n",
       "      <th>4</th>\n",
       "      <td>MCF10A p53KO, Activating</td>\n",
       "      <td>SCC25, Activating</td>\n",
       "      <td>1015</td>\n",
       "      <td>1</td>\n",
       "      <td>2</td>\n",
       "      <td>cornflowerblue</td>\n",
       "    </tr>\n",
       "    <tr>\n",
       "      <th>5</th>\n",
       "      <td>MCF10A p53KO, Activating</td>\n",
       "      <td>SCC25, Repressing</td>\n",
       "      <td>351</td>\n",
       "      <td>1</td>\n",
       "      <td>0</td>\n",
       "      <td>cornflowerblue</td>\n",
       "    </tr>\n",
       "    <tr>\n",
       "      <th>6</th>\n",
       "      <td>MCF10A p53KO, Repressing</td>\n",
       "      <td>SCC25, Unchanged</td>\n",
       "      <td>329</td>\n",
       "      <td>4</td>\n",
       "      <td>3</td>\n",
       "      <td>salmon</td>\n",
       "    </tr>\n",
       "    <tr>\n",
       "      <th>7</th>\n",
       "      <td>MCF10A p53KO, Repressing</td>\n",
       "      <td>SCC25, Repressing</td>\n",
       "      <td>275</td>\n",
       "      <td>4</td>\n",
       "      <td>0</td>\n",
       "      <td>salmon</td>\n",
       "    </tr>\n",
       "    <tr>\n",
       "      <th>8</th>\n",
       "      <td>MCF10A p53KO, Repressing</td>\n",
       "      <td>SCC25, Activating</td>\n",
       "      <td>81</td>\n",
       "      <td>4</td>\n",
       "      <td>2</td>\n",
       "      <td>salmon</td>\n",
       "    </tr>\n",
       "  </tbody>\n",
       "</table>\n",
       "</div>"
      ],
      "text/plain": [
       "               MCF10A p53KO              SCC25  count  source  target  \\\n",
       "0   MCF10A p53KO, Unchanged   SCC25, Unchanged   3532       8       3   \n",
       "1   MCF10A p53KO, Unchanged  SCC25, Repressing   1526       8       0   \n",
       "2   MCF10A p53KO, Unchanged  SCC25, Activating   1311       8       2   \n",
       "3  MCF10A p53KO, Activating   SCC25, Unchanged   1277       1       3   \n",
       "4  MCF10A p53KO, Activating  SCC25, Activating   1015       1       2   \n",
       "5  MCF10A p53KO, Activating  SCC25, Repressing    351       1       0   \n",
       "6  MCF10A p53KO, Repressing   SCC25, Unchanged    329       4       3   \n",
       "7  MCF10A p53KO, Repressing  SCC25, Repressing    275       4       0   \n",
       "8  MCF10A p53KO, Repressing  SCC25, Activating     81       4       2   \n",
       "\n",
       "            color  \n",
       "0          silver  \n",
       "1          silver  \n",
       "2          silver  \n",
       "3  cornflowerblue  \n",
       "4  cornflowerblue  \n",
       "5  cornflowerblue  \n",
       "6          salmon  \n",
       "7          salmon  \n",
       "8          salmon  "
      ]
     },
     "execution_count": 1,
     "metadata": {},
     "output_type": "execute_result"
    }
   ],
   "source": [
    "#sankey graph for all 4 cell types\n",
    "import pandas as pd\n",
    "import os\n",
    "os.chdir('..\\data')\n",
    "#format\n",
    "tmp = pd.read_excel('Table S3.xlsx', sheet_name='MCF10Ap53KO_HaCaT_SCC25')\n",
    "tmp = tmp[tmp.enhancer_variant =='WT']\n",
    "tmp_pivot = tmp.pivot(index='loc', columns='cell_line', values='activity').reset_index()\n",
    "\n",
    "sankey_tbl = tmp_pivot.value_counts(subset=['HaCaT','MCF10A p53KO','SCC25']).reset_index()\n",
    "sankey_tbl_ko_hac = tmp_pivot.value_counts(subset=['MCF10A p53KO','HaCaT']).reset_index()\n",
    "sankey_tbl_ko_scc = tmp_pivot.value_counts(subset=['MCF10A p53KO', 'SCC25']).reset_index()\n",
    "\n",
    "sankey_tbl.rename(columns={0:'count'}, inplace=True)\n",
    "sankey_tbl_ko_hac.rename(columns={0:'count'}, inplace=True)\n",
    "sankey_tbl_ko_scc.rename(columns={0:'count'}, inplace=True)\n",
    "\n",
    "sankey_tbl['HaCaT'] = 'HaCat, ' + sankey_tbl['HaCaT'].astype(str)\n",
    "sankey_tbl['MCF10A p53KO'] = 'MCF10A p53KO, ' + sankey_tbl['MCF10A p53KO'].astype(str)\n",
    "sankey_tbl['SCC25'] = 'SCC25, ' + sankey_tbl['SCC25'].astype(str)\n",
    "\n",
    "sankey_tbl_ko_hac['MCF10A p53KO'] = 'MCF10A p53KO, ' + sankey_tbl_ko_hac['MCF10A p53KO'].astype(str)\n",
    "sankey_tbl_ko_hac['HaCaT'] = 'HaCat, ' + sankey_tbl_ko_hac['HaCaT'].astype(str)\n",
    "sankey_tbl_ko_scc['SCC25'] = 'SCC25, ' + sankey_tbl_ko_scc['SCC25'].astype(str)\n",
    "sankey_tbl_ko_scc['MCF10A p53KO'] = 'MCF10A p53KO, ' + sankey_tbl_ko_scc['MCF10A p53KO'].astype(str)\n",
    "\n",
    "source = list(set(sankey_tbl.SCC25.tolist() + sankey_tbl['MCF10A p53KO'].tolist() + sankey_tbl.HaCaT.tolist()))\n",
    "\n",
    "sankey_tbl_ko_hac[['source', 'target']] = sankey_tbl_ko_hac.apply(lambda row: [source.index(row.HaCaT), source.index(row['MCF10A p53KO'])], axis='columns', result_type='expand')\n",
    "sankey_tbl_ko_scc[['source', 'target']] = sankey_tbl_ko_scc.apply(lambda row: [source.index(row['MCF10A p53KO']), source.index(row.SCC25)], axis='columns', result_type='expand')\n",
    "\n",
    "def add_col(col):\n",
    "\tif 'Unchanged' in col: return 'silver'\n",
    "\telif 'Activating' in col: return 'cornflowerblue'\n",
    "\telif 'Repressing' in col: return 'salmon'\n",
    "sankey_tbl_ko_hac['color'] = sankey_tbl_ko_hac['MCF10A p53KO'].apply(lambda x: add_col(x))\n",
    "sankey_tbl_ko_scc['color'] = sankey_tbl_ko_scc['MCF10A p53KO'].apply(lambda x: add_col(x))\n",
    "sankey_tbl_ko_scc"
   ]
  },
  {
   "cell_type": "code",
   "execution_count": 5,
   "metadata": {},
   "outputs": [
    {
     "data": {
      "text/html": [
       "<div>\n",
       "<style scoped>\n",
       "    .dataframe tbody tr th:only-of-type {\n",
       "        vertical-align: middle;\n",
       "    }\n",
       "\n",
       "    .dataframe tbody tr th {\n",
       "        vertical-align: top;\n",
       "    }\n",
       "\n",
       "    .dataframe thead th {\n",
       "        text-align: right;\n",
       "    }\n",
       "</style>\n",
       "<table border=\"1\" class=\"dataframe\">\n",
       "  <thead>\n",
       "    <tr style=\"text-align: right;\">\n",
       "      <th></th>\n",
       "      <th>MCF10A p53KO</th>\n",
       "      <th>HaCaT</th>\n",
       "      <th>count</th>\n",
       "      <th>source</th>\n",
       "      <th>target</th>\n",
       "      <th>color</th>\n",
       "    </tr>\n",
       "  </thead>\n",
       "  <tbody>\n",
       "    <tr>\n",
       "      <th>0</th>\n",
       "      <td>MCF10A p53KO, Unchanged</td>\n",
       "      <td>HaCat, Unchanged</td>\n",
       "      <td>5073</td>\n",
       "      <td>6</td>\n",
       "      <td>5</td>\n",
       "      <td>silver</td>\n",
       "    </tr>\n",
       "    <tr>\n",
       "      <th>1</th>\n",
       "      <td>MCF10A p53KO, Activating</td>\n",
       "      <td>HaCat, Unchanged</td>\n",
       "      <td>1845</td>\n",
       "      <td>6</td>\n",
       "      <td>4</td>\n",
       "      <td>cornflowerblue</td>\n",
       "    </tr>\n",
       "    <tr>\n",
       "      <th>2</th>\n",
       "      <td>MCF10A p53KO, Unchanged</td>\n",
       "      <td>HaCat, Activating</td>\n",
       "      <td>723</td>\n",
       "      <td>1</td>\n",
       "      <td>5</td>\n",
       "      <td>silver</td>\n",
       "    </tr>\n",
       "    <tr>\n",
       "      <th>3</th>\n",
       "      <td>MCF10A p53KO, Activating</td>\n",
       "      <td>HaCat, Activating</td>\n",
       "      <td>666</td>\n",
       "      <td>1</td>\n",
       "      <td>4</td>\n",
       "      <td>cornflowerblue</td>\n",
       "    </tr>\n",
       "    <tr>\n",
       "      <th>4</th>\n",
       "      <td>MCF10A p53KO, Unchanged</td>\n",
       "      <td>HaCat, Repressing</td>\n",
       "      <td>573</td>\n",
       "      <td>7</td>\n",
       "      <td>5</td>\n",
       "      <td>silver</td>\n",
       "    </tr>\n",
       "    <tr>\n",
       "      <th>5</th>\n",
       "      <td>MCF10A p53KO, Repressing</td>\n",
       "      <td>HaCat, Unchanged</td>\n",
       "      <td>450</td>\n",
       "      <td>6</td>\n",
       "      <td>3</td>\n",
       "      <td>salmon</td>\n",
       "    </tr>\n",
       "    <tr>\n",
       "      <th>6</th>\n",
       "      <td>MCF10A p53KO, Repressing</td>\n",
       "      <td>HaCat, Repressing</td>\n",
       "      <td>194</td>\n",
       "      <td>7</td>\n",
       "      <td>3</td>\n",
       "      <td>salmon</td>\n",
       "    </tr>\n",
       "    <tr>\n",
       "      <th>7</th>\n",
       "      <td>MCF10A p53KO, Activating</td>\n",
       "      <td>HaCat, Repressing</td>\n",
       "      <td>132</td>\n",
       "      <td>7</td>\n",
       "      <td>4</td>\n",
       "      <td>cornflowerblue</td>\n",
       "    </tr>\n",
       "    <tr>\n",
       "      <th>8</th>\n",
       "      <td>MCF10A p53KO, Repressing</td>\n",
       "      <td>HaCat, Activating</td>\n",
       "      <td>41</td>\n",
       "      <td>1</td>\n",
       "      <td>3</td>\n",
       "      <td>salmon</td>\n",
       "    </tr>\n",
       "  </tbody>\n",
       "</table>\n",
       "</div>"
      ],
      "text/plain": [
       "               MCF10A p53KO              HaCaT  count  source  target  \\\n",
       "0   MCF10A p53KO, Unchanged   HaCat, Unchanged   5073       6       5   \n",
       "1  MCF10A p53KO, Activating   HaCat, Unchanged   1845       6       4   \n",
       "2   MCF10A p53KO, Unchanged  HaCat, Activating    723       1       5   \n",
       "3  MCF10A p53KO, Activating  HaCat, Activating    666       1       4   \n",
       "4   MCF10A p53KO, Unchanged  HaCat, Repressing    573       7       5   \n",
       "5  MCF10A p53KO, Repressing   HaCat, Unchanged    450       6       3   \n",
       "6  MCF10A p53KO, Repressing  HaCat, Repressing    194       7       3   \n",
       "7  MCF10A p53KO, Activating  HaCat, Repressing    132       7       4   \n",
       "8  MCF10A p53KO, Repressing  HaCat, Activating     41       1       3   \n",
       "\n",
       "            color  \n",
       "0          silver  \n",
       "1  cornflowerblue  \n",
       "2          silver  \n",
       "3  cornflowerblue  \n",
       "4          silver  \n",
       "5          salmon  \n",
       "6          salmon  \n",
       "7  cornflowerblue  \n",
       "8          salmon  "
      ]
     },
     "execution_count": 5,
     "metadata": {},
     "output_type": "execute_result"
    }
   ],
   "source": [
    "sankey_tbl_ko_hac"
   ]
  },
  {
   "cell_type": "markdown",
   "metadata": {},
   "source": [
    "-  Make a sankey plot\n",
    "- HaCaT <- MCF10A p53KO -> SCC25 order"
   ]
  },
  {
   "cell_type": "code",
   "execution_count": 17,
   "metadata": {},
   "outputs": [
    {
     "data": {
      "application/vnd.plotly.v1+json": {
       "config": {
        "plotlyServerURL": "https://plot.ly"
       },
       "data": [
        {
         "link": {
          "color": [
           "silver",
           "silver",
           "silver",
           "cornflowerblue",
           "cornflowerblue",
           "cornflowerblue",
           "salmon",
           "salmon",
           "salmon",
           "silver",
           "cornflowerblue",
           "silver",
           "cornflowerblue",
           "silver",
           "salmon",
           "salmon",
           "cornflowerblue",
           "salmon"
          ],
          "source": [
           0,
           0,
           0,
           1,
           1,
           1,
           2,
           2,
           2,
           8,
           8,
           6,
           6,
           7,
           8,
           7,
           7,
           6
          ],
          "target": [
           3,
           5,
           4,
           3,
           4,
           5,
           3,
           5,
           4,
           0,
           1,
           0,
           1,
           0,
           2,
           2,
           1,
           2
          ],
          "value": [
           3532,
           1526,
           1311,
           1277,
           1015,
           351,
           329,
           275,
           81,
           5073,
           1845,
           723,
           666,
           573,
           450,
           194,
           132,
           41
          ]
         },
         "node": {
          "color": [
           "silver",
           "cornflowerblue",
           "salmon",
           "silver",
           "cornflowerblue",
           "salmon",
           "cornflowerblue",
           "salmon",
           "silver"
          ],
          "line": {
           "color": "black",
           "width": 0.5
          },
          "pad": 15,
          "thickness": 20
         },
         "type": "sankey"
        }
       ],
       "layout": {
        "autosize": false,
        "height": 400,
        "paper_bgcolor": "rgba(0,0,0,0)",
        "plot_bgcolor": "rgba(0,0,0,0)",
        "template": {
         "data": {
          "bar": [
           {
            "error_x": {
             "color": "#2a3f5f"
            },
            "error_y": {
             "color": "#2a3f5f"
            },
            "marker": {
             "line": {
              "color": "#E5ECF6",
              "width": 0.5
             },
             "pattern": {
              "fillmode": "overlay",
              "size": 10,
              "solidity": 0.2
             }
            },
            "type": "bar"
           }
          ],
          "barpolar": [
           {
            "marker": {
             "line": {
              "color": "#E5ECF6",
              "width": 0.5
             },
             "pattern": {
              "fillmode": "overlay",
              "size": 10,
              "solidity": 0.2
             }
            },
            "type": "barpolar"
           }
          ],
          "carpet": [
           {
            "aaxis": {
             "endlinecolor": "#2a3f5f",
             "gridcolor": "white",
             "linecolor": "white",
             "minorgridcolor": "white",
             "startlinecolor": "#2a3f5f"
            },
            "baxis": {
             "endlinecolor": "#2a3f5f",
             "gridcolor": "white",
             "linecolor": "white",
             "minorgridcolor": "white",
             "startlinecolor": "#2a3f5f"
            },
            "type": "carpet"
           }
          ],
          "choropleth": [
           {
            "colorbar": {
             "outlinewidth": 0,
             "ticks": ""
            },
            "type": "choropleth"
           }
          ],
          "contour": [
           {
            "colorbar": {
             "outlinewidth": 0,
             "ticks": ""
            },
            "colorscale": [
             [
              0,
              "#0d0887"
             ],
             [
              0.1111111111111111,
              "#46039f"
             ],
             [
              0.2222222222222222,
              "#7201a8"
             ],
             [
              0.3333333333333333,
              "#9c179e"
             ],
             [
              0.4444444444444444,
              "#bd3786"
             ],
             [
              0.5555555555555556,
              "#d8576b"
             ],
             [
              0.6666666666666666,
              "#ed7953"
             ],
             [
              0.7777777777777778,
              "#fb9f3a"
             ],
             [
              0.8888888888888888,
              "#fdca26"
             ],
             [
              1,
              "#f0f921"
             ]
            ],
            "type": "contour"
           }
          ],
          "contourcarpet": [
           {
            "colorbar": {
             "outlinewidth": 0,
             "ticks": ""
            },
            "type": "contourcarpet"
           }
          ],
          "heatmap": [
           {
            "colorbar": {
             "outlinewidth": 0,
             "ticks": ""
            },
            "colorscale": [
             [
              0,
              "#0d0887"
             ],
             [
              0.1111111111111111,
              "#46039f"
             ],
             [
              0.2222222222222222,
              "#7201a8"
             ],
             [
              0.3333333333333333,
              "#9c179e"
             ],
             [
              0.4444444444444444,
              "#bd3786"
             ],
             [
              0.5555555555555556,
              "#d8576b"
             ],
             [
              0.6666666666666666,
              "#ed7953"
             ],
             [
              0.7777777777777778,
              "#fb9f3a"
             ],
             [
              0.8888888888888888,
              "#fdca26"
             ],
             [
              1,
              "#f0f921"
             ]
            ],
            "type": "heatmap"
           }
          ],
          "heatmapgl": [
           {
            "colorbar": {
             "outlinewidth": 0,
             "ticks": ""
            },
            "colorscale": [
             [
              0,
              "#0d0887"
             ],
             [
              0.1111111111111111,
              "#46039f"
             ],
             [
              0.2222222222222222,
              "#7201a8"
             ],
             [
              0.3333333333333333,
              "#9c179e"
             ],
             [
              0.4444444444444444,
              "#bd3786"
             ],
             [
              0.5555555555555556,
              "#d8576b"
             ],
             [
              0.6666666666666666,
              "#ed7953"
             ],
             [
              0.7777777777777778,
              "#fb9f3a"
             ],
             [
              0.8888888888888888,
              "#fdca26"
             ],
             [
              1,
              "#f0f921"
             ]
            ],
            "type": "heatmapgl"
           }
          ],
          "histogram": [
           {
            "marker": {
             "pattern": {
              "fillmode": "overlay",
              "size": 10,
              "solidity": 0.2
             }
            },
            "type": "histogram"
           }
          ],
          "histogram2d": [
           {
            "colorbar": {
             "outlinewidth": 0,
             "ticks": ""
            },
            "colorscale": [
             [
              0,
              "#0d0887"
             ],
             [
              0.1111111111111111,
              "#46039f"
             ],
             [
              0.2222222222222222,
              "#7201a8"
             ],
             [
              0.3333333333333333,
              "#9c179e"
             ],
             [
              0.4444444444444444,
              "#bd3786"
             ],
             [
              0.5555555555555556,
              "#d8576b"
             ],
             [
              0.6666666666666666,
              "#ed7953"
             ],
             [
              0.7777777777777778,
              "#fb9f3a"
             ],
             [
              0.8888888888888888,
              "#fdca26"
             ],
             [
              1,
              "#f0f921"
             ]
            ],
            "type": "histogram2d"
           }
          ],
          "histogram2dcontour": [
           {
            "colorbar": {
             "outlinewidth": 0,
             "ticks": ""
            },
            "colorscale": [
             [
              0,
              "#0d0887"
             ],
             [
              0.1111111111111111,
              "#46039f"
             ],
             [
              0.2222222222222222,
              "#7201a8"
             ],
             [
              0.3333333333333333,
              "#9c179e"
             ],
             [
              0.4444444444444444,
              "#bd3786"
             ],
             [
              0.5555555555555556,
              "#d8576b"
             ],
             [
              0.6666666666666666,
              "#ed7953"
             ],
             [
              0.7777777777777778,
              "#fb9f3a"
             ],
             [
              0.8888888888888888,
              "#fdca26"
             ],
             [
              1,
              "#f0f921"
             ]
            ],
            "type": "histogram2dcontour"
           }
          ],
          "mesh3d": [
           {
            "colorbar": {
             "outlinewidth": 0,
             "ticks": ""
            },
            "type": "mesh3d"
           }
          ],
          "parcoords": [
           {
            "line": {
             "colorbar": {
              "outlinewidth": 0,
              "ticks": ""
             }
            },
            "type": "parcoords"
           }
          ],
          "pie": [
           {
            "automargin": true,
            "type": "pie"
           }
          ],
          "scatter": [
           {
            "fillpattern": {
             "fillmode": "overlay",
             "size": 10,
             "solidity": 0.2
            },
            "type": "scatter"
           }
          ],
          "scatter3d": [
           {
            "line": {
             "colorbar": {
              "outlinewidth": 0,
              "ticks": ""
             }
            },
            "marker": {
             "colorbar": {
              "outlinewidth": 0,
              "ticks": ""
             }
            },
            "type": "scatter3d"
           }
          ],
          "scattercarpet": [
           {
            "marker": {
             "colorbar": {
              "outlinewidth": 0,
              "ticks": ""
             }
            },
            "type": "scattercarpet"
           }
          ],
          "scattergeo": [
           {
            "marker": {
             "colorbar": {
              "outlinewidth": 0,
              "ticks": ""
             }
            },
            "type": "scattergeo"
           }
          ],
          "scattergl": [
           {
            "marker": {
             "colorbar": {
              "outlinewidth": 0,
              "ticks": ""
             }
            },
            "type": "scattergl"
           }
          ],
          "scattermapbox": [
           {
            "marker": {
             "colorbar": {
              "outlinewidth": 0,
              "ticks": ""
             }
            },
            "type": "scattermapbox"
           }
          ],
          "scatterpolar": [
           {
            "marker": {
             "colorbar": {
              "outlinewidth": 0,
              "ticks": ""
             }
            },
            "type": "scatterpolar"
           }
          ],
          "scatterpolargl": [
           {
            "marker": {
             "colorbar": {
              "outlinewidth": 0,
              "ticks": ""
             }
            },
            "type": "scatterpolargl"
           }
          ],
          "scatterternary": [
           {
            "marker": {
             "colorbar": {
              "outlinewidth": 0,
              "ticks": ""
             }
            },
            "type": "scatterternary"
           }
          ],
          "surface": [
           {
            "colorbar": {
             "outlinewidth": 0,
             "ticks": ""
            },
            "colorscale": [
             [
              0,
              "#0d0887"
             ],
             [
              0.1111111111111111,
              "#46039f"
             ],
             [
              0.2222222222222222,
              "#7201a8"
             ],
             [
              0.3333333333333333,
              "#9c179e"
             ],
             [
              0.4444444444444444,
              "#bd3786"
             ],
             [
              0.5555555555555556,
              "#d8576b"
             ],
             [
              0.6666666666666666,
              "#ed7953"
             ],
             [
              0.7777777777777778,
              "#fb9f3a"
             ],
             [
              0.8888888888888888,
              "#fdca26"
             ],
             [
              1,
              "#f0f921"
             ]
            ],
            "type": "surface"
           }
          ],
          "table": [
           {
            "cells": {
             "fill": {
              "color": "#EBF0F8"
             },
             "line": {
              "color": "white"
             }
            },
            "header": {
             "fill": {
              "color": "#C8D4E3"
             },
             "line": {
              "color": "white"
             }
            },
            "type": "table"
           }
          ]
         },
         "layout": {
          "annotationdefaults": {
           "arrowcolor": "#2a3f5f",
           "arrowhead": 0,
           "arrowwidth": 1
          },
          "autotypenumbers": "strict",
          "coloraxis": {
           "colorbar": {
            "outlinewidth": 0,
            "ticks": ""
           }
          },
          "colorscale": {
           "diverging": [
            [
             0,
             "#8e0152"
            ],
            [
             0.1,
             "#c51b7d"
            ],
            [
             0.2,
             "#de77ae"
            ],
            [
             0.3,
             "#f1b6da"
            ],
            [
             0.4,
             "#fde0ef"
            ],
            [
             0.5,
             "#f7f7f7"
            ],
            [
             0.6,
             "#e6f5d0"
            ],
            [
             0.7,
             "#b8e186"
            ],
            [
             0.8,
             "#7fbc41"
            ],
            [
             0.9,
             "#4d9221"
            ],
            [
             1,
             "#276419"
            ]
           ],
           "sequential": [
            [
             0,
             "#0d0887"
            ],
            [
             0.1111111111111111,
             "#46039f"
            ],
            [
             0.2222222222222222,
             "#7201a8"
            ],
            [
             0.3333333333333333,
             "#9c179e"
            ],
            [
             0.4444444444444444,
             "#bd3786"
            ],
            [
             0.5555555555555556,
             "#d8576b"
            ],
            [
             0.6666666666666666,
             "#ed7953"
            ],
            [
             0.7777777777777778,
             "#fb9f3a"
            ],
            [
             0.8888888888888888,
             "#fdca26"
            ],
            [
             1,
             "#f0f921"
            ]
           ],
           "sequentialminus": [
            [
             0,
             "#0d0887"
            ],
            [
             0.1111111111111111,
             "#46039f"
            ],
            [
             0.2222222222222222,
             "#7201a8"
            ],
            [
             0.3333333333333333,
             "#9c179e"
            ],
            [
             0.4444444444444444,
             "#bd3786"
            ],
            [
             0.5555555555555556,
             "#d8576b"
            ],
            [
             0.6666666666666666,
             "#ed7953"
            ],
            [
             0.7777777777777778,
             "#fb9f3a"
            ],
            [
             0.8888888888888888,
             "#fdca26"
            ],
            [
             1,
             "#f0f921"
            ]
           ]
          },
          "colorway": [
           "#636efa",
           "#EF553B",
           "#00cc96",
           "#ab63fa",
           "#FFA15A",
           "#19d3f3",
           "#FF6692",
           "#B6E880",
           "#FF97FF",
           "#FECB52"
          ],
          "font": {
           "color": "#2a3f5f"
          },
          "geo": {
           "bgcolor": "white",
           "lakecolor": "white",
           "landcolor": "#E5ECF6",
           "showlakes": true,
           "showland": true,
           "subunitcolor": "white"
          },
          "hoverlabel": {
           "align": "left"
          },
          "hovermode": "closest",
          "mapbox": {
           "style": "light"
          },
          "paper_bgcolor": "white",
          "plot_bgcolor": "#E5ECF6",
          "polar": {
           "angularaxis": {
            "gridcolor": "white",
            "linecolor": "white",
            "ticks": ""
           },
           "bgcolor": "#E5ECF6",
           "radialaxis": {
            "gridcolor": "white",
            "linecolor": "white",
            "ticks": ""
           }
          },
          "scene": {
           "xaxis": {
            "backgroundcolor": "#E5ECF6",
            "gridcolor": "white",
            "gridwidth": 2,
            "linecolor": "white",
            "showbackground": true,
            "ticks": "",
            "zerolinecolor": "white"
           },
           "yaxis": {
            "backgroundcolor": "#E5ECF6",
            "gridcolor": "white",
            "gridwidth": 2,
            "linecolor": "white",
            "showbackground": true,
            "ticks": "",
            "zerolinecolor": "white"
           },
           "zaxis": {
            "backgroundcolor": "#E5ECF6",
            "gridcolor": "white",
            "gridwidth": 2,
            "linecolor": "white",
            "showbackground": true,
            "ticks": "",
            "zerolinecolor": "white"
           }
          },
          "shapedefaults": {
           "line": {
            "color": "#2a3f5f"
           }
          },
          "ternary": {
           "aaxis": {
            "gridcolor": "white",
            "linecolor": "white",
            "ticks": ""
           },
           "baxis": {
            "gridcolor": "white",
            "linecolor": "white",
            "ticks": ""
           },
           "bgcolor": "#E5ECF6",
           "caxis": {
            "gridcolor": "white",
            "linecolor": "white",
            "ticks": ""
           }
          },
          "title": {
           "x": 0.05
          },
          "xaxis": {
           "automargin": true,
           "gridcolor": "white",
           "linecolor": "white",
           "ticks": "",
           "title": {
            "standoff": 15
           },
           "zerolinecolor": "white",
           "zerolinewidth": 2
          },
          "yaxis": {
           "automargin": true,
           "gridcolor": "white",
           "linecolor": "white",
           "ticks": "",
           "title": {
            "standoff": 15
           },
           "zerolinecolor": "white",
           "zerolinewidth": 2
          }
         }
        },
        "width": 400
       }
      }
     },
     "metadata": {},
     "output_type": "display_data"
    }
   ],
   "source": [
    "#this is with all three\n",
    "#MCF10A p53KO in the center\n",
    "import plotly.graph_objects as go\n",
    "import plotly.express as px\n",
    "import plotly\n",
    "from plotly.graph_objs import *\n",
    "\n",
    "fig=go.Figure(data=[go.Sankey(\n",
    "    node = dict(pad = 15,thickness = 20,line = dict(color = \"black\", width = 0.5),\n",
    "    color = ['silver','cornflowerblue','salmon','silver','cornflowerblue','salmon','cornflowerblue','salmon','silver']),\n",
    "    link = dict(\n",
    "      source = sankey_tbl_ko_scc.source.tolist() + sankey_tbl_ko_hac.source.tolist(), # indices correspond to labels, eg A1, A2, A1, B1, ...\n",
    "      target = sankey_tbl_ko_scc.target.tolist() + sankey_tbl_ko_hac.target.tolist(),\n",
    "      value = sankey_tbl_ko_scc['count'].tolist() + sankey_tbl_ko_hac['count'].tolist(),\n",
    "\t  color = sankey_tbl_ko_scc.color.tolist() + sankey_tbl_ko_hac.color.tolist())\n",
    ")],\n",
    "\tlayout = Layout(paper_bgcolor='rgba(0,0,0,0)', plot_bgcolor='rgba(0,0,0,0)'))\n",
    "fig.update_layout(autosize=False,width=400,height=400)\n",
    "fig.show()\n",
    "fig.write_image(os.path.join(fig_out_path,\"5C.pdf\"))"
   ]
  },
  {
   "cell_type": "code",
   "execution_count": 12,
   "metadata": {},
   "outputs": [
    {
     "data": {
      "text/plain": [
       "cell_line     activity  \n",
       "HaCaT         Unchanged     7368\n",
       "MCF10A p53KO  Unchanged     6369\n",
       "SCC25         Unchanged     5138\n",
       "MCF10A p53KO  Activating    2643\n",
       "SCC25         Activating    2407\n",
       "              Repressing    2152\n",
       "HaCaT         Activating    1430\n",
       "              Repressing     899\n",
       "MCF10A p53KO  Repressing     685\n",
       "dtype: int64"
      ]
     },
     "execution_count": 12,
     "metadata": {},
     "output_type": "execute_result"
    }
   ],
   "source": [
    "#get numbers to label sankey plot\n",
    "tmp.value_counts(subset=['cell_line', 'activity'])"
   ]
  },
  {
   "cell_type": "code",
   "execution_count": 9,
   "metadata": {},
   "outputs": [
    {
     "name": "stdout",
     "output_type": "stream",
     "text": [
      "2896\n"
     ]
    }
   ],
   "source": [
    "#shared unchanged\n",
    "from collections import Counter\n",
    "locs = tmp[tmp.activity == 'Unchanged']['loc'].tolist()\n",
    "c= Counter(locs)\n",
    "n=0\n",
    "for k,v in c.items():\n",
    "\tif v == 3: n+=1\n",
    "print(n)"
   ]
  },
  {
   "cell_type": "code",
   "execution_count": 7,
   "metadata": {},
   "outputs": [
    {
     "data": {
      "text/html": [
       "<div>\n",
       "<style scoped>\n",
       "    .dataframe tbody tr th:only-of-type {\n",
       "        vertical-align: middle;\n",
       "    }\n",
       "\n",
       "    .dataframe tbody tr th {\n",
       "        vertical-align: top;\n",
       "    }\n",
       "\n",
       "    .dataframe thead th {\n",
       "        text-align: right;\n",
       "    }\n",
       "</style>\n",
       "<table border=\"1\" class=\"dataframe\">\n",
       "  <thead>\n",
       "    <tr style=\"text-align: right;\">\n",
       "      <th></th>\n",
       "      <th>loc</th>\n",
       "      <th>enhancer_variant</th>\n",
       "      <th>cell_line</th>\n",
       "      <th>RNA/DNA</th>\n",
       "      <th>activity</th>\n",
       "      <th>obs_score</th>\n",
       "      <th>p63RE_class</th>\n",
       "      <th>strand</th>\n",
       "      <th>p63RE_type</th>\n",
       "      <th>gc</th>\n",
       "      <th>obs_p53</th>\n",
       "    </tr>\n",
       "  </thead>\n",
       "  <tbody>\n",
       "    <tr>\n",
       "      <th>0</th>\n",
       "      <td>chr1_3717092_3717116</td>\n",
       "      <td>WT</td>\n",
       "      <td>MCF10A p53KO</td>\n",
       "      <td>0.590035</td>\n",
       "      <td>Unchanged</td>\n",
       "      <td>20</td>\n",
       "      <td>primary</td>\n",
       "      <td>+</td>\n",
       "      <td>Unique p63RE</td>\n",
       "      <td>48.333333</td>\n",
       "      <td>NaN</td>\n",
       "    </tr>\n",
       "    <tr>\n",
       "      <th>1</th>\n",
       "      <td>chr1_5652400_5652424</td>\n",
       "      <td>WT</td>\n",
       "      <td>MCF10A p53KO</td>\n",
       "      <td>1.954091</td>\n",
       "      <td>Unchanged</td>\n",
       "      <td>20</td>\n",
       "      <td>primary</td>\n",
       "      <td>+</td>\n",
       "      <td>Unique p63RE</td>\n",
       "      <td>53.333333</td>\n",
       "      <td>NaN</td>\n",
       "    </tr>\n",
       "    <tr>\n",
       "      <th>2</th>\n",
       "      <td>chr1_31575754_31575773</td>\n",
       "      <td>WT</td>\n",
       "      <td>MCF10A p53KO</td>\n",
       "      <td>2.069488</td>\n",
       "      <td>Unchanged</td>\n",
       "      <td>20</td>\n",
       "      <td>secondary</td>\n",
       "      <td>-</td>\n",
       "      <td>Unique p63RE</td>\n",
       "      <td>62.184874</td>\n",
       "      <td>NaN</td>\n",
       "    </tr>\n",
       "    <tr>\n",
       "      <th>3</th>\n",
       "      <td>chr1_38027284_38027308</td>\n",
       "      <td>WT</td>\n",
       "      <td>MCF10A p53KO</td>\n",
       "      <td>2.000148</td>\n",
       "      <td>Activating</td>\n",
       "      <td>20</td>\n",
       "      <td>primary</td>\n",
       "      <td>-</td>\n",
       "      <td>Unique p63RE</td>\n",
       "      <td>62.500000</td>\n",
       "      <td>NaN</td>\n",
       "    </tr>\n",
       "    <tr>\n",
       "      <th>4</th>\n",
       "      <td>chr1_38117813_38117832</td>\n",
       "      <td>WT</td>\n",
       "      <td>MCF10A p53KO</td>\n",
       "      <td>2.263045</td>\n",
       "      <td>Activating</td>\n",
       "      <td>20</td>\n",
       "      <td>primary</td>\n",
       "      <td>+</td>\n",
       "      <td>p53RE+p63RE</td>\n",
       "      <td>57.983193</td>\n",
       "      <td>11.0</td>\n",
       "    </tr>\n",
       "    <tr>\n",
       "      <th>...</th>\n",
       "      <td>...</td>\n",
       "      <td>...</td>\n",
       "      <td>...</td>\n",
       "      <td>...</td>\n",
       "      <td>...</td>\n",
       "      <td>...</td>\n",
       "      <td>...</td>\n",
       "      <td>...</td>\n",
       "      <td>...</td>\n",
       "      <td>...</td>\n",
       "      <td>...</td>\n",
       "    </tr>\n",
       "    <tr>\n",
       "      <th>48480</th>\n",
       "      <td>chr9_135951083_135951107</td>\n",
       "      <td>WT</td>\n",
       "      <td>SCC25</td>\n",
       "      <td>0.139301</td>\n",
       "      <td>Repressing</td>\n",
       "      <td>8</td>\n",
       "      <td>primary</td>\n",
       "      <td>+</td>\n",
       "      <td>Unique p63RE</td>\n",
       "      <td>48.333333</td>\n",
       "      <td>NaN</td>\n",
       "    </tr>\n",
       "    <tr>\n",
       "      <th>48481</th>\n",
       "      <td>chr9_136484776_136484795</td>\n",
       "      <td>WT</td>\n",
       "      <td>SCC25</td>\n",
       "      <td>0.745343</td>\n",
       "      <td>Repressing</td>\n",
       "      <td>8</td>\n",
       "      <td>secondary</td>\n",
       "      <td>-</td>\n",
       "      <td>Unique p63RE</td>\n",
       "      <td>57.983193</td>\n",
       "      <td>NaN</td>\n",
       "    </tr>\n",
       "    <tr>\n",
       "      <th>48482</th>\n",
       "      <td>chr9_136533879_136533893</td>\n",
       "      <td>WT</td>\n",
       "      <td>SCC25</td>\n",
       "      <td>1.310668</td>\n",
       "      <td>Activating</td>\n",
       "      <td>8</td>\n",
       "      <td>senary</td>\n",
       "      <td>-</td>\n",
       "      <td>Unique p63RE</td>\n",
       "      <td>59.166667</td>\n",
       "      <td>NaN</td>\n",
       "    </tr>\n",
       "    <tr>\n",
       "      <th>48483</th>\n",
       "      <td>chr9_137062571_137062595</td>\n",
       "      <td>WT</td>\n",
       "      <td>SCC25</td>\n",
       "      <td>1.062340</td>\n",
       "      <td>Repressing</td>\n",
       "      <td>8</td>\n",
       "      <td>primary</td>\n",
       "      <td>-</td>\n",
       "      <td>Unique p63RE</td>\n",
       "      <td>55.833333</td>\n",
       "      <td>NaN</td>\n",
       "    </tr>\n",
       "    <tr>\n",
       "      <th>48484</th>\n",
       "      <td>chr9_137310751_137310775</td>\n",
       "      <td>WT</td>\n",
       "      <td>SCC25</td>\n",
       "      <td>0.671799</td>\n",
       "      <td>Repressing</td>\n",
       "      <td>8</td>\n",
       "      <td>primary</td>\n",
       "      <td>+</td>\n",
       "      <td>Unique p63RE</td>\n",
       "      <td>66.666667</td>\n",
       "      <td>NaN</td>\n",
       "    </tr>\n",
       "  </tbody>\n",
       "</table>\n",
       "<p>29091 rows × 11 columns</p>\n",
       "</div>"
      ],
      "text/plain": [
       "                            loc enhancer_variant     cell_line   RNA/DNA  \\\n",
       "0          chr1_3717092_3717116               WT  MCF10A p53KO  0.590035   \n",
       "1          chr1_5652400_5652424               WT  MCF10A p53KO  1.954091   \n",
       "2        chr1_31575754_31575773               WT  MCF10A p53KO  2.069488   \n",
       "3        chr1_38027284_38027308               WT  MCF10A p53KO  2.000148   \n",
       "4        chr1_38117813_38117832               WT  MCF10A p53KO  2.263045   \n",
       "...                         ...              ...           ...       ...   \n",
       "48480  chr9_135951083_135951107               WT         SCC25  0.139301   \n",
       "48481  chr9_136484776_136484795               WT         SCC25  0.745343   \n",
       "48482  chr9_136533879_136533893               WT         SCC25  1.310668   \n",
       "48483  chr9_137062571_137062595               WT         SCC25  1.062340   \n",
       "48484  chr9_137310751_137310775               WT         SCC25  0.671799   \n",
       "\n",
       "         activity  obs_score p63RE_class strand    p63RE_type         gc  \\\n",
       "0       Unchanged         20     primary      +  Unique p63RE  48.333333   \n",
       "1       Unchanged         20     primary      +  Unique p63RE  53.333333   \n",
       "2       Unchanged         20   secondary      -  Unique p63RE  62.184874   \n",
       "3      Activating         20     primary      -  Unique p63RE  62.500000   \n",
       "4      Activating         20     primary      +   p53RE+p63RE  57.983193   \n",
       "...           ...        ...         ...    ...           ...        ...   \n",
       "48480  Repressing          8     primary      +  Unique p63RE  48.333333   \n",
       "48481  Repressing          8   secondary      -  Unique p63RE  57.983193   \n",
       "48482  Activating          8      senary      -  Unique p63RE  59.166667   \n",
       "48483  Repressing          8     primary      -  Unique p63RE  55.833333   \n",
       "48484  Repressing          8     primary      +  Unique p63RE  66.666667   \n",
       "\n",
       "       obs_p53  \n",
       "0          NaN  \n",
       "1          NaN  \n",
       "2          NaN  \n",
       "3          NaN  \n",
       "4         11.0  \n",
       "...        ...  \n",
       "48480      NaN  \n",
       "48481      NaN  \n",
       "48482      NaN  \n",
       "48483      NaN  \n",
       "48484      NaN  \n",
       "\n",
       "[29091 rows x 11 columns]"
      ]
     },
     "execution_count": 7,
     "metadata": {},
     "output_type": "execute_result"
    }
   ],
   "source": [
    "tmp"
   ]
  },
  {
   "cell_type": "markdown",
   "metadata": {},
   "source": [
    "## Figure 5D-E\n",
    "### TF motif enrichment in activating or repressing enhanser using Homer\n",
    "- Create 3 lists of p63RE coordinates based on enhancer activity (1.5FC threshold) in SCC25\n",
    "- Use homer with the foliwing parameters:\n",
    "\t+ *findMotifsGenome.pl*\n",
    "\t+ List of 'Activating' or 'Repressing' p63RE coordinates\n",
    "\t+ *-size* 60 (looks up sequence 60nt in each direction from coordinate center; MPRA enhancer fragments are 119-120nt)\n",
    "\t+ *-bg* list of 'Unchanged' p63RE coordinates\n",
    "- Use the output knownmotifs.txt table to plot motif enrichment"
   ]
  },
  {
   "cell_type": "code",
   "execution_count": null,
   "metadata": {},
   "outputs": [],
   "source": [
    "#import libraries\n",
    "import pandas as pd\n",
    "import os\n",
    "order = ['Activating', 'Unchanged', 'Repressing']\n",
    "#import key tables\n",
    "os.chdir('..\\data')\n",
    "out_path = '..\\homer'\n",
    "df = pd.read_excel('Table S2.xlsx', sheet_name='MCF10Ap53KO_HaCaT_SCC25')\n",
    "df[['chrom','p63RE_start','p63RE_end']] = df.apply(lambda row: row['loc'].split('_'), result_type='expand', axis='columns')\n",
    "#only need SCC25s and one variant to remove duplicated locations\n",
    "filt = df[(df.cell_line == 'SCC25') & (df.enhancer_variant == 'WT')]\n",
    "df_act = filt[filt.activity == 'Activating']\n",
    "df_rep = filt[filt.activity == 'Repressing']\n",
    "df_unch = filt[filt.activity == 'Unchanged']\n",
    "df_act.loc[:,['loc','chrom','p63RE_start','p63RE_end','strand']].to_csv(os.path.join(out_path,'homer_act_SCC25.txt'), index=False, header=False,sep='\\t')\n",
    "df_rep.loc[:,['loc','chrom','p63RE_start','p63RE_end','strand']].to_csv(os.path.join(out_path,'homer_rep_SCC25.txt'), index=False, header=False,sep='\\t')\n",
    "df_unch.loc[:,['loc','chrom','p63RE_start','p63RE_end','strand']].to_csv(os.path.join(out_path,'homer_unch_SCC25.txt'), index=False, header=False,sep='\\t')\n",
    "filt.loc[:,['loc','chrom','p63RE_start','p63RE_end','strand']].to_csv(os.path.join(out_path,'homer_all_SCC25.txt'), index=False, header=False,sep='\\t')\n",
    "#only need p53KOs and one variant to remove duplicated locations\n",
    "filt = df[(df.cell_line == 'MCF10A p53KO') & (df.enhancer_variant == 'WT')]\n",
    "df_act = filt[filt.activity == 'Activating']\n",
    "df_rep = filt[filt.activity == 'Repressing']\n",
    "df_unch = filt[filt.activity == 'Unchanged']\n",
    "df_act.loc[:,['loc','chrom','p63RE_start','p63RE_end','strand']].to_csv(os.path.join(out_path,'homer_act_MCF10Ap53KO_fig5.txt'), index=False, header=False,sep='\\t')\n",
    "df_rep.loc[:,['loc','chrom','p63RE_start','p63RE_end','strand']].to_csv(os.path.join(out_path,'homer_rep_MCF10Ap53KO_fig5.txt'), index=False, header=False,sep='\\t')\n",
    "df_unch.loc[:,['loc','chrom','p63RE_start','p63RE_end','strand']].to_csv(os.path.join(out_path,'homer_unch_MCF10Ap53KO_fig5.txt'), index=False, header=False,sep='\\t')\n",
    "filt.loc[:,['loc','chrom','p63RE_start','p63RE_end','strand']].to_csv(os.path.join(out_path,'homer_all_MCF10Ap53KO_fig5.txt'), index=False, header=False,sep='\\t')\n",
    "#only need HaCaTs and one variant to remove duplicated locations\n",
    "filt = df[(df.cell_line == 'HaCaT') & (df.enhancer_variant == 'WT')]\n",
    "df_act = filt[filt.activity == 'Activating']\n",
    "df_rep = filt[filt.activity == 'Repressing']\n",
    "df_unch = filt[filt.activity == 'Unchanged']\n",
    "df_act.loc[:,['loc','chrom','p63RE_start','p63RE_end','strand']].to_csv(os.path.join(out_path,'homer_act_HaCaT.txt'), index=False, header=False,sep='\\t')\n",
    "df_rep.loc[:,['loc','chrom','p63RE_start','p63RE_end','strand']].to_csv(os.path.join(out_path,'homer_rep_HaCaT.txt'), index=False, header=False,sep='\\t')\n",
    "df_unch.loc[:,['loc','chrom','p63RE_start','p63RE_end','strand']].to_csv(os.path.join(out_path,'homer_unch_HaCaT.txt'), index=False, header=False,sep='\\t')\n",
    "filt.loc[:,['loc','chrom','p63RE_start','p63RE_end','strand']].to_csv(os.path.join(out_path,'homer_all_HaCaT.txt'), index=False, header=False,sep='\\t')\n",
    "#run homer motif enrichemnt using these act/rep files and unchanged enhancers as background"
   ]
  },
  {
   "cell_type": "markdown",
   "metadata": {},
   "source": [
    " - shared vs unique (MCF10A p53KO and SCC25) p63RE-dependent activiating regulatory elements\n",
    " - process HOMER output tables for plotting"
   ]
  },
  {
   "cell_type": "code",
   "execution_count": 10,
   "metadata": {},
   "outputs": [
    {
     "data": {
      "text/html": [
       "<div>\n",
       "<style scoped>\n",
       "    .dataframe tbody tr th:only-of-type {\n",
       "        vertical-align: middle;\n",
       "    }\n",
       "\n",
       "    .dataframe tbody tr th {\n",
       "        vertical-align: top;\n",
       "    }\n",
       "\n",
       "    .dataframe thead th {\n",
       "        text-align: right;\n",
       "    }\n",
       "</style>\n",
       "<table border=\"1\" class=\"dataframe\">\n",
       "  <thead>\n",
       "    <tr style=\"text-align: right;\">\n",
       "      <th></th>\n",
       "      <th>Motif Name</th>\n",
       "      <th>Consensus</th>\n",
       "      <th>P-value</th>\n",
       "      <th>Log P-value</th>\n",
       "      <th>Adjusted P-value</th>\n",
       "      <th># of Target Sequences with Motif</th>\n",
       "      <th>% of Target Sequences with Motif</th>\n",
       "      <th># of Background  Sequences with Motif</th>\n",
       "      <th>% of Background Sequences with Motif</th>\n",
       "      <th>cell_line</th>\n",
       "      <th>tf</th>\n",
       "      <th>TF</th>\n",
       "      <th>Overlap</th>\n",
       "      <th>Enrichment over background</th>\n",
       "      <th>log(1/padj)</th>\n",
       "      <th>log(1/pval)</th>\n",
       "    </tr>\n",
       "  </thead>\n",
       "  <tbody>\n",
       "    <tr>\n",
       "      <th>442</th>\n",
       "      <td>Fra2(bZIP)/Striatum-Fra2-ChIP-Seq(GSE43429)/Homer</td>\n",
       "      <td>GGATGACTCATC</td>\n",
       "      <td>1.000000e-07</td>\n",
       "      <td>-16.520</td>\n",
       "      <td>2.225074e-308</td>\n",
       "      <td>140.0</td>\n",
       "      <td>5.82%</td>\n",
       "      <td>187.0</td>\n",
       "      <td>3.64%</td>\n",
       "      <td>SCC25</td>\n",
       "      <td>Fra2</td>\n",
       "      <td>FRA2</td>\n",
       "      <td>140/2405</td>\n",
       "      <td>1.598901</td>\n",
       "      <td>708.396419</td>\n",
       "      <td>16.118096</td>\n",
       "    </tr>\n",
       "    <tr>\n",
       "      <th>27</th>\n",
       "      <td>GABPA(ETS)/Jurkat-GABPa-ChIP-Seq(GSE17954)/Homer</td>\n",
       "      <td>RACCGGAAGT</td>\n",
       "      <td>1.000000e-03</td>\n",
       "      <td>-7.868</td>\n",
       "      <td>6.000000e-03</td>\n",
       "      <td>87.0</td>\n",
       "      <td>3.29%</td>\n",
       "      <td>142.3</td>\n",
       "      <td>2.25%</td>\n",
       "      <td>MCF10A\\n$\\it{TP53}$-/-</td>\n",
       "      <td>GABPA</td>\n",
       "      <td>GABPA</td>\n",
       "      <td>87/2644</td>\n",
       "      <td>1.462222</td>\n",
       "      <td>5.115996</td>\n",
       "      <td>6.907755</td>\n",
       "    </tr>\n",
       "    <tr>\n",
       "      <th>39</th>\n",
       "      <td>Elk1(ETS)/Hela-Elk1-ChIP-Seq(GSE31477)/Homer</td>\n",
       "      <td>HACTTCCGGY</td>\n",
       "      <td>1.000000e-02</td>\n",
       "      <td>-5.955</td>\n",
       "      <td>2.890000e-02</td>\n",
       "      <td>40.0</td>\n",
       "      <td>1.51%</td>\n",
       "      <td>60.0</td>\n",
       "      <td>0.95%</td>\n",
       "      <td>MCF10A\\n$\\it{TP53}$-/-</td>\n",
       "      <td>Elk1</td>\n",
       "      <td>ELK1</td>\n",
       "      <td>40/2649</td>\n",
       "      <td>1.589474</td>\n",
       "      <td>3.543914</td>\n",
       "      <td>4.605170</td>\n",
       "    </tr>\n",
       "    <tr>\n",
       "      <th>14</th>\n",
       "      <td>Fra1(bZIP)/BT549-Fra1-ChIP-Seq(GSE46166)/Homer</td>\n",
       "      <td>NNATGASTCATH</td>\n",
       "      <td>1.000000e-05</td>\n",
       "      <td>-12.470</td>\n",
       "      <td>1.000000e-04</td>\n",
       "      <td>152.0</td>\n",
       "      <td>5.75%</td>\n",
       "      <td>249.3</td>\n",
       "      <td>3.94%</td>\n",
       "      <td>MCF10A\\n$\\it{TP53}$-/-</td>\n",
       "      <td>Fra1</td>\n",
       "      <td>FRA1</td>\n",
       "      <td>152/2643</td>\n",
       "      <td>1.459391</td>\n",
       "      <td>9.210340</td>\n",
       "      <td>11.512925</td>\n",
       "    </tr>\n",
       "    <tr>\n",
       "      <th>454</th>\n",
       "      <td>MYNN(Zf)/HEK293-MYNN.eGFP-ChIP-Seq(Encode)/Homer</td>\n",
       "      <td>TTCAAAWTAAAAGTC</td>\n",
       "      <td>1.000000e-03</td>\n",
       "      <td>-7.360</td>\n",
       "      <td>1.900000e-02</td>\n",
       "      <td>7.0</td>\n",
       "      <td>0.29%</td>\n",
       "      <td>4.0</td>\n",
       "      <td>0.08%</td>\n",
       "      <td>SCC25</td>\n",
       "      <td>MYNN</td>\n",
       "      <td>MYNN</td>\n",
       "      <td>7/2414</td>\n",
       "      <td>3.625</td>\n",
       "      <td>3.963316</td>\n",
       "      <td>6.907755</td>\n",
       "    </tr>\n",
       "  </tbody>\n",
       "</table>\n",
       "</div>"
      ],
      "text/plain": [
       "                                            Motif Name        Consensus  \\\n",
       "442  Fra2(bZIP)/Striatum-Fra2-ChIP-Seq(GSE43429)/Homer     GGATGACTCATC   \n",
       "27    GABPA(ETS)/Jurkat-GABPa-ChIP-Seq(GSE17954)/Homer       RACCGGAAGT   \n",
       "39        Elk1(ETS)/Hela-Elk1-ChIP-Seq(GSE31477)/Homer       HACTTCCGGY   \n",
       "14      Fra1(bZIP)/BT549-Fra1-ChIP-Seq(GSE46166)/Homer     NNATGASTCATH   \n",
       "454   MYNN(Zf)/HEK293-MYNN.eGFP-ChIP-Seq(Encode)/Homer  TTCAAAWTAAAAGTC   \n",
       "\n",
       "          P-value  Log P-value  Adjusted P-value  \\\n",
       "442  1.000000e-07      -16.520     2.225074e-308   \n",
       "27   1.000000e-03       -7.868      6.000000e-03   \n",
       "39   1.000000e-02       -5.955      2.890000e-02   \n",
       "14   1.000000e-05      -12.470      1.000000e-04   \n",
       "454  1.000000e-03       -7.360      1.900000e-02   \n",
       "\n",
       "     # of Target Sequences with Motif % of Target Sequences with Motif  \\\n",
       "442                             140.0                            5.82%   \n",
       "27                               87.0                            3.29%   \n",
       "39                               40.0                            1.51%   \n",
       "14                              152.0                            5.75%   \n",
       "454                               7.0                            0.29%   \n",
       "\n",
       "     # of Background  Sequences with Motif  \\\n",
       "442                                  187.0   \n",
       "27                                   142.3   \n",
       "39                                    60.0   \n",
       "14                                   249.3   \n",
       "454                                    4.0   \n",
       "\n",
       "    % of Background Sequences with Motif               cell_line     tf  \\\n",
       "442                                3.64%                   SCC25   Fra2   \n",
       "27                                 2.25%  MCF10A\\n$\\it{TP53}$-/-  GABPA   \n",
       "39                                 0.95%  MCF10A\\n$\\it{TP53}$-/-   Elk1   \n",
       "14                                 3.94%  MCF10A\\n$\\it{TP53}$-/-   Fra1   \n",
       "454                                0.08%                   SCC25   MYNN   \n",
       "\n",
       "        TF   Overlap Enrichment over background  log(1/padj)  log(1/pval)  \n",
       "442   FRA2  140/2405                   1.598901   708.396419    16.118096  \n",
       "27   GABPA   87/2644                   1.462222     5.115996     6.907755  \n",
       "39    ELK1   40/2649                   1.589474     3.543914     4.605170  \n",
       "14    FRA1  152/2643                   1.459391     9.210340    11.512925  \n",
       "454   MYNN    7/2414                      3.625     3.963316     6.907755  "
      ]
     },
     "execution_count": 10,
     "metadata": {},
     "output_type": "execute_result"
    }
   ],
   "source": [
    "import sys\n",
    "def overlap(r, tbl):\n",
    "\ttarget = round(r[tbl.columns[5]])\n",
    "\tperc = float(r['% of Target Sequences with Motif'].strip('%'))\n",
    "\tif perc == 0.0:\n",
    "\t\treturn '0'\n",
    "\ttotal = round((target * 100) / perc)\n",
    "\tovlp = str(target) + '/' + str(total)\n",
    "\treturn ovlp\n",
    "def size(r):\n",
    "\ttarget = float(r['% of Target Sequences with Motif'].strip('%'))\n",
    "\tbg = float(r['% of Background Sequences with Motif'].strip('%'))\n",
    "\tif bg == 0.0:\n",
    "\t\treturn '0'\n",
    "\tovlp = target / bg\n",
    "\treturn ovlp\n",
    "homer_path = '..\\homer'\n",
    "pko = pd.read_csv(os.path.join(homer_path,'homer_act_MCF10Ap53KO_fig5_bg_unch','knownResults.txt'), sep='\\t')\n",
    "scc = pd.read_csv(os.path.join(homer_path,'homer_act_SCC25_bg_unch','knownResults.txt'), sep='\\t')\n",
    "top = 50 #top motifs\n",
    "pko['cell_line'], scc['cell_line'] = 'MCF10A\\n' + '$\\it{TP53}$' + '-/-','SCC25' #changes TP53 to italics\n",
    "#rename variable columns for concatenation\n",
    "for tbl in [pko, scc]:\n",
    "\ttbl.rename(columns={tbl.columns[5]:'# of Target Sequences with Motif',\n",
    "\ttbl.columns[7]:'# of Background  Sequences with Motif'}, inplace=True)\n",
    "#merge into one long table\n",
    "long = pd.concat([pko, scc],axis=0, ignore_index=True)\n",
    "#simplify motif name by exrtacting short name\n",
    "long['tf'] = long['Motif Name'].apply(lambda x: x[:x.find('(')])\n",
    "long['TF'] = long.tf.str.upper()\n",
    "#calculate % overlap\n",
    "long['Overlap'] = long.apply(lambda row: overlap(row, long),axis='columns')\n",
    "long['Enrichment over background'] = long.apply(lambda row: size(row), axis='columns')\n",
    "long.rename(columns={'q-value (Benjamini)':\"Adjusted P-value\"},inplace=True)\n",
    "long = long[(long[\"Adjusted P-value\"] < 0.05) & (long['Motif Name'] != 'p53(p53)/mES-cMyc-ChIP-Seq(GSE11431)/Homer')]\n",
    "long['log(1/padj)'] = np.log(1 / long['Adjusted P-value'])\n",
    "#want to inverse padj value and log it, but can't do that with 0, Replace 0 with lowest possible float\n",
    "long[\"Adjusted P-value\"].replace({0.0:sys.float_info.min}, inplace=True)\n",
    "long['log(1/padj)'] = np.log(1 / long['Adjusted P-value'])\n",
    "long['log(1/pval)'] = np.log(1 / long['P-value'])\n",
    "all_tf = list(set(long.tf.tolist()))\n",
    "scc_tf = list(set(long[long.cell_line == 'SCC25'].tf.tolist()))\n",
    "pko_tf = list(set(long[long.cell_line != 'SCC25'].tf.tolist()))\n",
    "shared_tf = list(set(pko_tf).intersection(scc_tf))\n",
    "uniq_scc = [tf for tf in scc_tf if tf not in shared_tf]\n",
    "uniq_pko = [tf for tf in pko_tf if tf not in shared_tf]\n",
    "long.sample(5)"
   ]
  },
  {
   "cell_type": "markdown",
   "metadata": {},
   "source": [
    "### Figure 5D"
   ]
  },
  {
   "cell_type": "code",
   "execution_count": 6,
   "metadata": {},
   "outputs": [
    {
     "data": {
      "image/png": "[encoded data removed]",
      "text/plain": [
       "<Figure size 150x500 with 2 Axes>"
      ]
     },
     "metadata": {},
     "output_type": "display_data"
    }
   ],
   "source": [
    "sns.set_style({'axes.grid.axis' : 'y','axes.grid' : True})\n",
    "df_shared = long[long.tf.isin(shared_tf)]\n",
    "df_shared['tf'] = pd.Categorical(df_shared['tf'], ['BATF','Atf3', 'NFkB-p65-Rel','Fos', 'Fosl2', 'Fra2','JunB', 'EWS:FLI1-fusion','TEAD1','ETS1','Jun-AP1', 'AP-1', 'Fra1', 'NFkB-p65'])\n",
    "df_shared.sort_values(by='tf', inplace=True)\n",
    "fig, ax = plt.subplots(figsize=(1.5,5))\n",
    "sns.scatterplot(data=df_shared, x='cell_line', y='tf', hue='log(1/padj)', size= 'Enrichment over background',\n",
    "\t\t\t\tsizes=(10,250),palette='viridis_r',edgecolor='black',ax=ax).set(ylabel = None,xlim=(-0.5, 1.5), title='Enriched shared motifs\\np63RE-dependent activation', xlabel=None)\n",
    "ax.axes.xaxis.grid(False)\n",
    "norm = plt.Normalize(df_shared['log(1/padj)'].min(), df_shared['log(1/padj)'].median())\n",
    "cmap = sns.cubehelix_palette(light=1, as_cmap=True)\n",
    "sm = plt.cm.ScalarMappable(cmap='viridis_r', norm=norm)\n",
    "sm.set_array([])\n",
    "cax = fig.add_axes([ax.get_position().x1+0.33, ax.get_position().y0+0.15, 0.1, ax.get_position().height / 4])\n",
    "ax.figure.colorbar(sm, cax=cax)\n",
    "h, l = ax.get_legend_handles_labels()\n",
    "# slice the appropriate section of l and h to include in the legend\n",
    "ax.legend(h[7:], l[7:], bbox_to_anchor=(1, 1), fontsize=10,frameon = False, title='Enrichment over\\nbackground')\n",
    "fig.savefig(os.path.join(fig_out_path,'5D.eps'), dpi=300, transparent=True, bbox_inches='tight')"
   ]
  },
  {
   "cell_type": "markdown",
   "metadata": {},
   "source": [
    "### Figure 5E"
   ]
  },
  {
   "cell_type": "code",
   "execution_count": 20,
   "metadata": {},
   "outputs": [
    {
     "data": {
      "image/png": "[encoded data removed]",
      "text/plain": [
       "<Figure size 150x900 with 2 Axes>"
      ]
     },
     "metadata": {},
     "output_type": "display_data"
    }
   ],
   "source": [
    "#unique motifs enriched btw cell types\n",
    "sns.set_style({'axes.grid.axis' : 'y','axes.grid' : True})\n",
    "df_uniq = long[long.tf.isin(uniq_pko + uniq_scc)]\n",
    "#this TF order is made to match order in a heatmap in 5F below\n",
    "df_uniq['tf'] = pd.Categorical(df_uniq['tf'], ['Brachyury', 'RXR', 'ERG','ZNF711', 'Egr2', 'NF-E2','p73','NFkB-p50,p52','Elk4', 'p63', 'TEAD3','ETS', 'ETV1','NRF', 'Fli1','ETV4','p53','ZFX','TEAD4',\n",
    "\t\t\t\t\t\t\t\t\t\t\t    'Elk1', 'Smad4','Smad2', 'Ets1-distal','Bach2', 'ZNF416','PRDM10','MYNN','EWS:ERG-fusion','Etv2','GABPA',\n",
    "\t\t\t\t\t\t\t\t\t\t\t        'Tcfcp2l1', 'Zfp809'])\n",
    "df_uniq.sort_values(by='tf', inplace=True)\n",
    "fig, ax = plt.subplots(figsize=(1.5,9))\n",
    "sns.scatterplot(data=df_uniq, x='cell_line', y='tf', hue='log(1/padj)', size= 'Enrichment over background',\n",
    "\t\t\t\tsizes=(10,150),palette='viridis_r',edgecolor='black',ax=ax).set(ylabel = None,xlim=(-0.5, 1.5), title='Enriched unique motifs\\np63RE-dependent activation', xlabel=None)\n",
    "ax.axes.xaxis.grid(False)\n",
    "norm = plt.Normalize(df_uniq['log(1/padj)'].min(), df_uniq['log(1/padj)'].median())\n",
    "cmap = sns.cubehelix_palette(light=1, as_cmap=True)\n",
    "sm = plt.cm.ScalarMappable(cmap='viridis_r', norm=norm)\n",
    "sm.set_array([])\n",
    "cax = fig.add_axes([ax.get_position().x1+0.33, ax.get_position().y0+0.42, 0.1, ax.get_position().height / 5])\n",
    "ax.figure.colorbar(sm, cax=cax)\n",
    "h, l = ax.get_legend_handles_labels()\n",
    "# slice the appropriate section of l and h to include in the legend\n",
    "ax.legend(h[8:], l[8:], bbox_to_anchor=(1, 1), fontsize=10,frameon = False, title='Enrichment over\\nbackground')\n",
    "fig.savefig(os.path.join(fig_out_path,'5E.eps'), dpi=300, transparent=True, bbox_inches='tight')"
   ]
  },
  {
   "cell_type": "markdown",
   "metadata": {},
   "source": [
    "## Figure 5F\n",
    " - First, run DESEQ2 analysis comparing MCF10A p53KO + DMSO and SCC25 + shRNA_ctrl\n",
    " - Use Lambert et al, 2018 table indentifying gene names that are TFs\n",
    " - Extract just the TF of interest expression data (vst) for plotting\n",
    " - Group by TFs upregulated in SCC25 or MCF10A p53KO relative to each other"
   ]
  },
  {
   "cell_type": "code",
   "execution_count": 2,
   "metadata": {},
   "outputs": [
    {
     "data": {
      "text/html": [
       "<div>\n",
       "<style scoped>\n",
       "    .dataframe tbody tr th:only-of-type {\n",
       "        vertical-align: middle;\n",
       "    }\n",
       "\n",
       "    .dataframe tbody tr th {\n",
       "        vertical-align: top;\n",
       "    }\n",
       "\n",
       "    .dataframe thead th {\n",
       "        text-align: right;\n",
       "    }\n",
       "</style>\n",
       "<table border=\"1\" class=\"dataframe\">\n",
       "  <thead>\n",
       "    <tr style=\"text-align: right;\">\n",
       "      <th></th>\n",
       "      <th>ensembl_gene_id</th>\n",
       "      <th>baseMean</th>\n",
       "      <th>log2FoldChange</th>\n",
       "      <th>padj</th>\n",
       "      <th>hgnc_symbol</th>\n",
       "      <th>chromosome_name</th>\n",
       "      <th>start_position</th>\n",
       "      <th>end_position</th>\n",
       "      <th>strand</th>\n",
       "      <th>Name</th>\n",
       "      <th>MCF10Ap53KO_DMSO_1</th>\n",
       "      <th>MCF10Ap53KO_DMSO_2</th>\n",
       "      <th>MCF10Ap53KO_DMSO_3</th>\n",
       "      <th>SCC25_ctr_shRNA_1</th>\n",
       "      <th>SCC25_ctr_shRNA_2</th>\n",
       "      <th>Adjusted p-value</th>\n",
       "      <th>Fold Change</th>\n",
       "    </tr>\n",
       "  </thead>\n",
       "  <tbody>\n",
       "    <tr>\n",
       "      <th>1348</th>\n",
       "      <td>ENSG00000151702</td>\n",
       "      <td>832.636609</td>\n",
       "      <td>-1.056199</td>\n",
       "      <td>5.035624e-05</td>\n",
       "      <td>FLI1</td>\n",
       "      <td>11</td>\n",
       "      <td>128686535</td>\n",
       "      <td>128813267</td>\n",
       "      <td>1</td>\n",
       "      <td>FLI1</td>\n",
       "      <td>10.637086</td>\n",
       "      <td>10.766306</td>\n",
       "      <td>10.926722</td>\n",
       "      <td>10.016320</td>\n",
       "      <td>10.346813</td>\n",
       "      <td>p-value &lt; 0.05</td>\n",
       "      <td>Upregulated in MCF10A TP53-/-</td>\n",
       "    </tr>\n",
       "    <tr>\n",
       "      <th>1805</th>\n",
       "      <td>ENSG00000171223</td>\n",
       "      <td>19509.000922</td>\n",
       "      <td>3.333628</td>\n",
       "      <td>4.319854e-111</td>\n",
       "      <td>JUNB</td>\n",
       "      <td>19</td>\n",
       "      <td>12791486</td>\n",
       "      <td>12793315</td>\n",
       "      <td>1</td>\n",
       "      <td>JUNB</td>\n",
       "      <td>12.491673</td>\n",
       "      <td>12.111596</td>\n",
       "      <td>12.216132</td>\n",
       "      <td>15.332654</td>\n",
       "      <td>15.465357</td>\n",
       "      <td>p-value &lt; 0.05</td>\n",
       "      <td>Upregulated in SCC25</td>\n",
       "    </tr>\n",
       "    <tr>\n",
       "      <th>1404</th>\n",
       "      <td>ENSG00000156127</td>\n",
       "      <td>6.939603</td>\n",
       "      <td>3.038052</td>\n",
       "      <td>7.653554e-02</td>\n",
       "      <td>BATF</td>\n",
       "      <td>14</td>\n",
       "      <td>75522455</td>\n",
       "      <td>75546993</td>\n",
       "      <td>1</td>\n",
       "      <td>BATF</td>\n",
       "      <td>8.647557</td>\n",
       "      <td>8.723795</td>\n",
       "      <td>8.792486</td>\n",
       "      <td>8.879366</td>\n",
       "      <td>8.962208</td>\n",
       "      <td>p-value &gt; 0.05</td>\n",
       "      <td>Upregulated in SCC25</td>\n",
       "    </tr>\n",
       "    <tr>\n",
       "      <th>1514</th>\n",
       "      <td>ENSG00000162772</td>\n",
       "      <td>495.138753</td>\n",
       "      <td>3.747811</td>\n",
       "      <td>1.674769e-05</td>\n",
       "      <td>ATF3</td>\n",
       "      <td>1</td>\n",
       "      <td>212565334</td>\n",
       "      <td>212620777</td>\n",
       "      <td>1</td>\n",
       "      <td>ATF3</td>\n",
       "      <td>9.521196</td>\n",
       "      <td>9.157579</td>\n",
       "      <td>9.138560</td>\n",
       "      <td>10.376130</td>\n",
       "      <td>11.174332</td>\n",
       "      <td>p-value &lt; 0.05</td>\n",
       "      <td>Upregulated in SCC25</td>\n",
       "    </tr>\n",
       "    <tr>\n",
       "      <th>209</th>\n",
       "      <td>ENSG00000075426</td>\n",
       "      <td>5801.852695</td>\n",
       "      <td>1.703879</td>\n",
       "      <td>1.565483e-05</td>\n",
       "      <td>FOSL2</td>\n",
       "      <td>2</td>\n",
       "      <td>28392448</td>\n",
       "      <td>28417317</td>\n",
       "      <td>1</td>\n",
       "      <td>FOSL2</td>\n",
       "      <td>12.276658</td>\n",
       "      <td>11.509312</td>\n",
       "      <td>11.790580</td>\n",
       "      <td>13.484962</td>\n",
       "      <td>13.283643</td>\n",
       "      <td>p-value &lt; 0.05</td>\n",
       "      <td>Upregulated in SCC25</td>\n",
       "    </tr>\n",
       "  </tbody>\n",
       "</table>\n",
       "</div>"
      ],
      "text/plain": [
       "      ensembl_gene_id      baseMean  log2FoldChange           padj  \\\n",
       "1348  ENSG00000151702    832.636609       -1.056199   5.035624e-05   \n",
       "1805  ENSG00000171223  19509.000922        3.333628  4.319854e-111   \n",
       "1404  ENSG00000156127      6.939603        3.038052   7.653554e-02   \n",
       "1514  ENSG00000162772    495.138753        3.747811   1.674769e-05   \n",
       "209   ENSG00000075426   5801.852695        1.703879   1.565483e-05   \n",
       "\n",
       "     hgnc_symbol chromosome_name  start_position  end_position  strand   Name  \\\n",
       "1348        FLI1              11       128686535     128813267       1   FLI1   \n",
       "1805        JUNB              19        12791486      12793315       1   JUNB   \n",
       "1404        BATF              14        75522455      75546993       1   BATF   \n",
       "1514        ATF3               1       212565334     212620777       1   ATF3   \n",
       "209        FOSL2               2        28392448      28417317       1  FOSL2   \n",
       "\n",
       "      MCF10Ap53KO_DMSO_1  MCF10Ap53KO_DMSO_2  MCF10Ap53KO_DMSO_3  \\\n",
       "1348           10.637086           10.766306           10.926722   \n",
       "1805           12.491673           12.111596           12.216132   \n",
       "1404            8.647557            8.723795            8.792486   \n",
       "1514            9.521196            9.157579            9.138560   \n",
       "209            12.276658           11.509312           11.790580   \n",
       "\n",
       "      SCC25_ctr_shRNA_1  SCC25_ctr_shRNA_2 Adjusted p-value  \\\n",
       "1348          10.016320          10.346813   p-value < 0.05   \n",
       "1805          15.332654          15.465357   p-value < 0.05   \n",
       "1404           8.879366           8.962208   p-value > 0.05   \n",
       "1514          10.376130          11.174332   p-value < 0.05   \n",
       "209           13.484962          13.283643   p-value < 0.05   \n",
       "\n",
       "                        Fold Change  \n",
       "1348  Upregulated in MCF10A TP53-/-  \n",
       "1805           Upregulated in SCC25  \n",
       "1404           Upregulated in SCC25  \n",
       "1514           Upregulated in SCC25  \n",
       "209            Upregulated in SCC25  "
      ]
     },
     "execution_count": 2,
     "metadata": {},
     "output_type": "execute_result"
    }
   ],
   "source": [
    "# os.chdir(r'..\\fastq_rnaseq')\n",
    "os.chdir(r'..\\data')\n",
    "#import TFs names\n",
    "all_tf = pd.read_csv('all_TFs_lambert2018.csv', usecols=['ID','Name'])\n",
    "all_tf.rename(columns={'ID':'ensembl_gene_id'}, inplace=True)\n",
    "#import rnaseq vst values\n",
    "vst = pd.read_csv('deseq2_vst_MCF10Ap53KO_vs_SCC25.csv')\n",
    "vst.rename(columns={'ID':'ensembl_gene_id'}, inplace=True)\n",
    "#import deseq results of MCF10A vs SCC\n",
    "pkovsscc = pd.read_csv('deseq2_MCF10Ap53KO_DMSO_vs_SCC25_ctrl_shRNA.csv', index_col=0)\n",
    "pkovsscc.drop(columns=['lfcSE','stat','pvalue', 'transcript_is_canonical'], inplace=True)\n",
    "#merge TF names and keep only TFs\n",
    "pkovsscc = pkovsscc.merge(all_tf, how='left', on='ensembl_gene_id')\n",
    "pkovsscc.dropna(subset=['Name'], how='any', inplace=True)\n",
    "#merge vst values\n",
    "pkovsscc = pkovsscc.merge(vst[['MCF10Ap53KO_DMSO_1', 'MCF10Ap53KO_DMSO_2', 'MCF10Ap53KO_DMSO_3',\n",
    "\t\t\t\t\t\t\t   'SCC25_ctr_shRNA_1', 'SCC25_ctr_shRNA_2','ensembl_gene_id']], how='left', on='ensembl_gene_id')\n",
    "tf_shared = ['ATF3','BATF','ETS1','TEAD1', 'JUNB', 'REL',\n",
    "\t\t  'EWSR1','FLI1', 'FOS','FOSL1','FOSL2','JUN']\n",
    "tf_mcf = [ 'T','ERG','ETS1','ETS2','ETV1','ETV2','ETV4','ELK1', 'EWSR1', 'ZFX','ZNF416', 'ZNF711', 'SMAD2','SMAD4',\n",
    "\t\t 'TEAD3', 'TEAD4','PRDM10','RXRG','RXRA','RXRB','NFE2','FLI1', 'GABPA',\n",
    "\t\t 'NRF1', 'EWSR1', 'TP53','TP63','TP73']\n",
    "tf_scc = ['ETS1','MYNN','NFKB1','NFKB2','BACH2','ELK4','EGR2']\n",
    "#only keep our TFs from fig 5DE\n",
    "tf_ensbl_uniq = all_tf[all_tf.Name.isin(tf_mcf + tf_scc)].ensembl_gene_id.tolist()\n",
    "tf_ensbl_shared = all_tf[all_tf.Name.isin(tf_shared)].ensembl_gene_id.tolist()\n",
    "unique = pkovsscc[pkovsscc.ensembl_gene_id.isin(tf_ensbl_uniq)].copy()\n",
    "shared = pkovsscc[pkovsscc.ensembl_gene_id.isin(tf_ensbl_shared)].copy()\n",
    "# pkovsscc = pkovsscc[pkovsscc.ensembl_gene_id != ]\n",
    "#add col labels\n",
    "def rnaseq(fc, p):\n",
    "\tif np.isnan(fc) == True: return ['NA', 'NA']\n",
    "\tif p < 0.05:\n",
    "\t\tif fc > 0: return ['p-value < 0.05','Upregulated in SCC25']\n",
    "\t\telif fc < 0: return ['p-value < 0.05','Upregulated in MCF10A TP53-/-']\n",
    "\telif p >= 0.05:\n",
    "\t\tif fc > 0: return ['p-value > 0.05','Upregulated in SCC25']\n",
    "\t\telif fc < 0: return ['p-value > 0.05','Upregulated in MCF10A TP53-/-']\n",
    "def tf_ori(tf):\n",
    "\tif tf in tf_mcf: return 'MCF10A p53KO'\n",
    "\telif tf in tf_scc: return 'SCC25'\n",
    "unique[['Adjusted p-value','Fold Change']] = unique.apply(lambda row: rnaseq(row.log2FoldChange, row.padj), axis='columns', result_type='expand')\n",
    "unique['tf_ori'] = unique.Name.apply(lambda x: tf_ori(x))\n",
    "shared[['Adjusted p-value','Fold Change']] = shared.apply(lambda row: rnaseq(row.log2FoldChange, row.padj), axis='columns', result_type='expand')\n",
    "#sort in a specific order\n",
    "unique['Adjusted p-value'] = pd.Categorical(unique['Adjusted p-value'], [\"NA\", \"p-value < 0.05\", \"p-value > 0.05\"])\n",
    "unique['Fold Change'] = pd.Categorical(unique['Fold Change'], [\"NA\",\"Upregulated in SCC25\", \"Upregulated in MCF10A TP53-/-\"])\n",
    "unique.sort_values(by=['Adjusted p-value','Fold Change','MCF10Ap53KO_DMSO_1'], inplace=True)\n",
    "shared['Adjusted p-value'] = pd.Categorical(shared['Adjusted p-value'], [\"NA\", \"p-value < 0.05\", \"p-value > 0.05\"])\n",
    "shared['Fold Change'] = pd.Categorical(shared['Fold Change'], [\"NA\",\"Upregulated in SCC25\", \"Upregulated in MCF10A TP53-/-\"])\n",
    "shared.sort_values(by=['Adjusted p-value','Fold Change','MCF10Ap53KO_DMSO_1'], inplace=True)\n",
    "#note: brachyuri/T/TBXT has nan values in rnaseq\n",
    "del(vst, all_tf)\n",
    "shared.sample(5)"
   ]
  },
  {
   "cell_type": "code",
   "execution_count": 19,
   "metadata": {},
   "outputs": [
    {
     "data": {
      "image/png": "[encoded data removed]",
      "text/plain": [
       "<Figure size 300x1100 with 5 Axes>"
      ]
     },
     "metadata": {},
     "output_type": "display_data"
    }
   ],
   "source": [
    "hm = unique[['Name','MCF10Ap53KO_DMSO_1', 'MCF10Ap53KO_DMSO_2', 'MCF10Ap53KO_DMSO_3',\n",
    "       'SCC25_ctr_shRNA_1', 'SCC25_ctr_shRNA_2', 'Fold Change','Adjusted p-value']].copy()\n",
    "hm = hm.set_index('Name')\n",
    "fc = hm.pop('Fold Change')\n",
    "sign = hm.pop('Adjusted p-value')\n",
    "lut = {'NA':'lightgrey', 'p-value < 0.05':'mediumseagreen', 'p-value > 0.05':'grey', 'Upregulated in SCC25':'red', 'Upregulated in MCF10A TP53-/-':'royalblue'}\n",
    "row_colors1 = fc.map(lut)\n",
    "row_colors2 = sign.map(lut)\n",
    "row_colors = pd.concat([row_colors2,row_colors1], axis=1)\n",
    "fig = sns.clustermap(hm, row_colors=row_colors, cmap=\"flare_r\", figsize=(3, 11), row_cluster=False, col_cluster=False, colors_ratio=0.1,robust=True, cbar_pos=(.2, .9, .5, .019),\n",
    "                   cbar_kws={\"orientation\": \"horizontal\", 'label': 'Normalized expression'})\n",
    "fig.ax_heatmap.axvline(x=3, linewidth=1, color=\"black\", linestyle='dashed')\n",
    "#fig.ax_heatmap.hlines(y=[1,11,22,25,27,30],xmin=0,xmax=5, linewidth=1, color=\"black\", linestyles='dashed')\n",
    "fig.ax_heatmap.hlines(y=[1,14,25,31],xmin=0,xmax=5, linewidth=1, color=\"black\", linestyles='dashed')\n",
    "fig.ax_heatmap.set_facecolor('lightgrey')\n",
    "handles = [Patch(facecolor=lut[name]) for name in lut]\n",
    "plt.legend(handles, lut, frameon=False,\n",
    "           bbox_to_anchor=(0, 0.8), bbox_transform=plt.gcf().transFigure, loc='upper right')\n",
    "fig.ax_heatmap.set_xticklabels(['MCF10A TP53-/- 1', 'MCF10A TP53-/- 2','MCF10A TP53-/- 3', 'SCC25 shRNA(ctrl) 1', 'SCC25 shRNA(ctrl) 2'])\n",
    "fig.savefig(os.path.join(fig_out_path, '5F.eps'), dpi=300, transparent=True, bbox_inches='tight')"
   ]
  }
 ],
 "metadata": {
  "kernelspec": {
   "display_name": "Python 3",
   "language": "python",
   "name": "python3"
  },
  "language_info": {
   "codemirror_mode": {
    "name": "ipython",
    "version": 3
   },
   "file_extension": ".py",
   "mimetype": "text/x-python",
   "name": "python",
   "nbconvert_exporter": "python",
   "pygments_lexer": "ipython3",
   "version": "3.10.7"
  }
 },
 "nbformat": 4,
 "nbformat_minor": 2
}
