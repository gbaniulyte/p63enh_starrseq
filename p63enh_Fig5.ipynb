{
 "cells": [
  {
   "cell_type": "markdown",
   "metadata": {},
   "source": [
    "# Generate figures for the p63 MPRA paper\n",
    "## Firgure 5. Cell type or isoform specificity."
   ]
  },
  {
   "cell_type": "code",
   "execution_count": 1,
   "metadata": {},
   "outputs": [
    {
     "data": {
      "text/html": [
       "<div>\n",
       "<style scoped>\n",
       "    .dataframe tbody tr th:only-of-type {\n",
       "        vertical-align: middle;\n",
       "    }\n",
       "\n",
       "    .dataframe tbody tr th {\n",
       "        vertical-align: top;\n",
       "    }\n",
       "\n",
       "    .dataframe thead th {\n",
       "        text-align: right;\n",
       "    }\n",
       "</style>\n",
       "<table border=\"1\" class=\"dataframe\">\n",
       "  <thead>\n",
       "    <tr style=\"text-align: right;\">\n",
       "      <th></th>\n",
       "      <th>loc</th>\n",
       "      <th>cell_line</th>\n",
       "      <th>WT</th>\n",
       "      <th>mut</th>\n",
       "      <th>log2(WT/mut)</th>\n",
       "      <th>activity</th>\n",
       "      <th>obs_score</th>\n",
       "      <th>p63RE_class</th>\n",
       "      <th>strand</th>\n",
       "      <th>p63RE_type</th>\n",
       "      <th>obs_p53</th>\n",
       "    </tr>\n",
       "  </thead>\n",
       "  <tbody>\n",
       "    <tr>\n",
       "      <th>0</th>\n",
       "      <td>chr10_100043539_100043558</td>\n",
       "      <td>HaCaT</td>\n",
       "      <td>1.156849</td>\n",
       "      <td>0.759034</td>\n",
       "      <td>0.607964</td>\n",
       "      <td>Activating</td>\n",
       "      <td>19</td>\n",
       "      <td>primary</td>\n",
       "      <td>-</td>\n",
       "      <td>p53RE+p63RE</td>\n",
       "      <td>17.0</td>\n",
       "    </tr>\n",
       "    <tr>\n",
       "      <th>1</th>\n",
       "      <td>chr10_100043539_100043558</td>\n",
       "      <td>MCF10A p53KO</td>\n",
       "      <td>1.228455</td>\n",
       "      <td>0.646880</td>\n",
       "      <td>0.925274</td>\n",
       "      <td>Activating</td>\n",
       "      <td>19</td>\n",
       "      <td>primary</td>\n",
       "      <td>-</td>\n",
       "      <td>p53RE+p63RE</td>\n",
       "      <td>17.0</td>\n",
       "    </tr>\n",
       "    <tr>\n",
       "      <th>2</th>\n",
       "      <td>chr10_100043539_100043558</td>\n",
       "      <td>SCC25</td>\n",
       "      <td>0.724665</td>\n",
       "      <td>0.898260</td>\n",
       "      <td>-0.309819</td>\n",
       "      <td>Unchanged</td>\n",
       "      <td>19</td>\n",
       "      <td>primary</td>\n",
       "      <td>-</td>\n",
       "      <td>p53RE+p63RE</td>\n",
       "      <td>17.0</td>\n",
       "    </tr>\n",
       "    <tr>\n",
       "      <th>3</th>\n",
       "      <td>chr10_100157341_100157365</td>\n",
       "      <td>HaCaT</td>\n",
       "      <td>1.669188</td>\n",
       "      <td>1.068968</td>\n",
       "      <td>0.642928</td>\n",
       "      <td>Activating</td>\n",
       "      <td>13</td>\n",
       "      <td>primary</td>\n",
       "      <td>+</td>\n",
       "      <td>Unique p63RE</td>\n",
       "      <td>NaN</td>\n",
       "    </tr>\n",
       "    <tr>\n",
       "      <th>4</th>\n",
       "      <td>chr10_100157341_100157365</td>\n",
       "      <td>MCF10A p53KO</td>\n",
       "      <td>1.645843</td>\n",
       "      <td>1.356191</td>\n",
       "      <td>0.279266</td>\n",
       "      <td>Unchanged</td>\n",
       "      <td>13</td>\n",
       "      <td>primary</td>\n",
       "      <td>+</td>\n",
       "      <td>Unique p63RE</td>\n",
       "      <td>NaN</td>\n",
       "    </tr>\n",
       "    <tr>\n",
       "      <th>...</th>\n",
       "      <td>...</td>\n",
       "      <td>...</td>\n",
       "      <td>...</td>\n",
       "      <td>...</td>\n",
       "      <td>...</td>\n",
       "      <td>...</td>\n",
       "      <td>...</td>\n",
       "      <td>...</td>\n",
       "      <td>...</td>\n",
       "      <td>...</td>\n",
       "      <td>...</td>\n",
       "    </tr>\n",
       "    <tr>\n",
       "      <th>25693</th>\n",
       "      <td>chr9_99129212_99129236</td>\n",
       "      <td>MCF10A p53KO</td>\n",
       "      <td>0.773522</td>\n",
       "      <td>0.691637</td>\n",
       "      <td>0.161428</td>\n",
       "      <td>Unchanged</td>\n",
       "      <td>10</td>\n",
       "      <td>primary</td>\n",
       "      <td>+</td>\n",
       "      <td>Unique p63RE</td>\n",
       "      <td>NaN</td>\n",
       "    </tr>\n",
       "    <tr>\n",
       "      <th>25694</th>\n",
       "      <td>chr9_99129212_99129236</td>\n",
       "      <td>SCC25</td>\n",
       "      <td>1.349398</td>\n",
       "      <td>0.621413</td>\n",
       "      <td>1.118691</td>\n",
       "      <td>Activating</td>\n",
       "      <td>10</td>\n",
       "      <td>primary</td>\n",
       "      <td>+</td>\n",
       "      <td>Unique p63RE</td>\n",
       "      <td>NaN</td>\n",
       "    </tr>\n",
       "    <tr>\n",
       "      <th>25695</th>\n",
       "      <td>chr9_99445438_99445462</td>\n",
       "      <td>HaCaT</td>\n",
       "      <td>1.401739</td>\n",
       "      <td>1.055114</td>\n",
       "      <td>0.409819</td>\n",
       "      <td>Unchanged</td>\n",
       "      <td>11</td>\n",
       "      <td>primary</td>\n",
       "      <td>-</td>\n",
       "      <td>Unique p63RE</td>\n",
       "      <td>NaN</td>\n",
       "    </tr>\n",
       "    <tr>\n",
       "      <th>25696</th>\n",
       "      <td>chr9_99445438_99445462</td>\n",
       "      <td>MCF10A p53KO</td>\n",
       "      <td>0.746343</td>\n",
       "      <td>0.534718</td>\n",
       "      <td>0.481060</td>\n",
       "      <td>Unchanged</td>\n",
       "      <td>11</td>\n",
       "      <td>primary</td>\n",
       "      <td>-</td>\n",
       "      <td>Unique p63RE</td>\n",
       "      <td>NaN</td>\n",
       "    </tr>\n",
       "    <tr>\n",
       "      <th>25697</th>\n",
       "      <td>chr9_99445438_99445462</td>\n",
       "      <td>SCC25</td>\n",
       "      <td>0.716886</td>\n",
       "      <td>0.695675</td>\n",
       "      <td>0.043330</td>\n",
       "      <td>Unchanged</td>\n",
       "      <td>11</td>\n",
       "      <td>primary</td>\n",
       "      <td>-</td>\n",
       "      <td>Unique p63RE</td>\n",
       "      <td>NaN</td>\n",
       "    </tr>\n",
       "  </tbody>\n",
       "</table>\n",
       "<p>25698 rows × 11 columns</p>\n",
       "</div>"
      ],
      "text/plain": [
       "                             loc     cell_line        WT       mut  \\\n",
       "0      chr10_100043539_100043558         HaCaT  1.156849  0.759034   \n",
       "1      chr10_100043539_100043558  MCF10A p53KO  1.228455  0.646880   \n",
       "2      chr10_100043539_100043558         SCC25  0.724665  0.898260   \n",
       "3      chr10_100157341_100157365         HaCaT  1.669188  1.068968   \n",
       "4      chr10_100157341_100157365  MCF10A p53KO  1.645843  1.356191   \n",
       "...                          ...           ...       ...       ...   \n",
       "25693     chr9_99129212_99129236  MCF10A p53KO  0.773522  0.691637   \n",
       "25694     chr9_99129212_99129236         SCC25  1.349398  0.621413   \n",
       "25695     chr9_99445438_99445462         HaCaT  1.401739  1.055114   \n",
       "25696     chr9_99445438_99445462  MCF10A p53KO  0.746343  0.534718   \n",
       "25697     chr9_99445438_99445462         SCC25  0.716886  0.695675   \n",
       "\n",
       "       log2(WT/mut)    activity  obs_score p63RE_class strand    p63RE_type  \\\n",
       "0          0.607964  Activating         19     primary      -   p53RE+p63RE   \n",
       "1          0.925274  Activating         19     primary      -   p53RE+p63RE   \n",
       "2         -0.309819   Unchanged         19     primary      -   p53RE+p63RE   \n",
       "3          0.642928  Activating         13     primary      +  Unique p63RE   \n",
       "4          0.279266   Unchanged         13     primary      +  Unique p63RE   \n",
       "...             ...         ...        ...         ...    ...           ...   \n",
       "25693      0.161428   Unchanged         10     primary      +  Unique p63RE   \n",
       "25694      1.118691  Activating         10     primary      +  Unique p63RE   \n",
       "25695      0.409819   Unchanged         11     primary      -  Unique p63RE   \n",
       "25696      0.481060   Unchanged         11     primary      -  Unique p63RE   \n",
       "25697      0.043330   Unchanged         11     primary      -  Unique p63RE   \n",
       "\n",
       "       obs_p53  \n",
       "0         17.0  \n",
       "1         17.0  \n",
       "2         17.0  \n",
       "3          NaN  \n",
       "4          NaN  \n",
       "...        ...  \n",
       "25693      NaN  \n",
       "25694      NaN  \n",
       "25695      NaN  \n",
       "25696      NaN  \n",
       "25697      NaN  \n",
       "\n",
       "[25698 rows x 11 columns]"
      ]
     },
     "execution_count": 1,
     "metadata": {},
     "output_type": "execute_result"
    }
   ],
   "source": [
    "#import libraries\n",
    "import pandas as pd\n",
    "import seaborn as sns\n",
    "import matplotlib.pyplot as plt\n",
    "import os\n",
    "from statannotations.Annotator import Annotator\n",
    "#generate statannotations-compatable list of comparisons\n",
    "#dotplot\n",
    "def overlap(r, tbl):\n",
    "\ttarget = round(r[tbl.columns[5]])\n",
    "\tperc = float(r['% of Target Sequences with Motif'].strip('%'))\n",
    "\tif perc == 0.0:\n",
    "\t\treturn '0'\n",
    "\ttotal = round((target * 100) / perc)\n",
    "\tovlp = str(target) + '/' + str(total)\n",
    "\treturn ovlp\n",
    "#set seaborn theme for nice figures\n",
    "sns.set_theme(style=\"ticks\",rc={\"axes.spines.right\": False, \"axes.spines.top\": False, 'font.size':10}, font='arial')\n",
    "act_palette = {'Activating': sns.color_palette('RdYlBu')[-1], 'Repressing':sns.color_palette('RdYlBu')[0], 'Unchanged':sns.color_palette('RdGy')[4]}\n",
    "#import key tables\n",
    "os.chdir(r'Z:\\gbaniulyte\\MPRA\\AM_STARRSeq\\final_scripts_fastq\\tables')\n",
    "fig_out_path = r'Z:\\gbaniulyte\\MPRA\\AM_STARRSeq\\final_scripts_fastq\\figures'\n",
    "#import\n",
    "df_fc = pd.read_csv('p63enh_starrseq_log2fc_matched_MCF10Ap53KO_HaCaT_SCC25_WTmut.csv', index_col=0)\n",
    "df_fc_tap63b = pd.read_csv('p63enh_starrseq_log2fc_matched_MCF10AGus_TAp63B_WTmut.csv', index_col=0)\n",
    "df = pd.read_csv('p63enh_starrseq_normCounts_matched_MCF10AGus_TAp63B_WTmut.csv', index_col=0)\n",
    "df_fc"
   ]
  },
  {
   "cell_type": "code",
   "execution_count": 4,
   "metadata": {},
   "outputs": [
    {
     "name": "stderr",
     "output_type": "stream",
     "text": [
      "C:\\Users\\gaban\\AppData\\Local\\Temp\\ipykernel_5648\\192771337.py:12: UserWarning: set_ticklabels() should only be used with a fixed number of ticks, i.e. after set_ticks() or using a FixedLocator.\n",
      "  ax.set_xticklabels(ax.get_xticklabels(),rotation=90, size=10)\n"
     ]
    },
    {
     "data": {
      "image/png": "[encoded data removed]",
      "text/plain": [
       "<Figure size 150x300 with 1 Axes>"
      ]
     },
     "metadata": {},
     "output_type": "display_data"
    }
   ],
   "source": [
    "#5C stacked barchart\n",
    "df_cp = df_fc.copy()\n",
    "p53_name = 'MCF10A ' + '$\\it{TP53}$' + '-/-'\n",
    "df_cp.replace({'MCF10A p53KO':p53_name}, inplace=True)\n",
    "df_cp['cell_line'] = pd.Categorical(df_cp['cell_line'], ['HaCaT',p53_name,'SCC25'])\n",
    "fig5B, ax = plt.subplots(figsize=(1.5,3))\n",
    "sns.histplot(\n",
    "    data=df_cp,\n",
    "    x=\"cell_line\", hue=\"activity\", hue_order=['Activating', 'Unchanged','Repressing'],\n",
    "    multiple=\"fill\", stat=\"percent\", palette= act_palette,\n",
    "    discrete=True, shrink=.6,ax=ax).set(ylabel = 'Fraction of Enhancers',xlabel=None)\n",
    "ax.set_xticklabels(ax.get_xticklabels(),rotation=90, size=10)\n",
    "sns.move_legend(ax, \"upper left\", bbox_to_anchor=(1, 1), frameon=False, title = 'Enhancer Activity')\n",
    "fig5B.savefig(os.path.join(fig_out_path,'5B_20240508.pdf'), dpi=300, transparent=True, bbox_inches='tight')"
   ]
  },
  {
   "cell_type": "code",
   "execution_count": 4,
   "metadata": {},
   "outputs": [
    {
     "name": "stdout",
     "output_type": "stream",
     "text": [
      "p-value annotation legend:\n",
      "      ns: 5.00e-02 < p <= 1.00e+00\n",
      "       *: 1.00e-02 < p <= 5.00e-02\n",
      "      **: 1.00e-03 < p <= 1.00e-02\n",
      "     ***: 1.00e-04 < p <= 1.00e-03\n",
      "    ****: p <= 1.00e-04\n",
      "\n",
      "GUS_WT vs. TAp63β_WT: Wilcoxon test (paired samples), P_val:9.346e-166 Stat=4.891e+07\n"
     ]
    },
    {
     "data": {
      "image/png": "[encoded data removed]",
      "text/plain": [
       "<Figure size 325x300 with 1 Axes>"
      ]
     },
     "metadata": {},
     "output_type": "display_data"
    }
   ],
   "source": [
    "fig5E, ax = plt.subplots(figsize=(3.25,3))\n",
    "# sns.set_context(rc={\"xtick.labelsize\":10})\n",
    "df = df[df.enhancer_variant.isin(['WT', 'mut'])]\n",
    "df.replace({'TAp63B':'TAp63β', 'pGus':'GUS'}, inplace=True)\n",
    "cols = {'WT':'forestgreen', 'mut':'crimson'}\n",
    "compare = [[('GUS','WT'),('TAp63β','WT')]]\n",
    "sns.boxplot(data = df, x = 'cell_line',y = 'RNA/DNA',hue = 'enhancer_variant', width=0.7, palette = cols, showfliers = False, ax=ax).set(xlabel='Cell line')\n",
    "annotator = Annotator(pairs = compare, data = df, x = 'cell_line',y = 'RNA/DNA',hue = 'enhancer_variant', ax=ax)\n",
    "annotator.configure(test = \"Wilcoxon\").apply_and_annotate()\n",
    "ax.legend(frameon = False, title = 'p63RE variant')\n",
    "sns.move_legend(ax, \"upper left\", bbox_to_anchor=(0.9, 1))\n",
    "fig5E.savefig(os.path.join(fig_out_path,'5E_20240506.eps'), dpi=300, transparent=True, bbox_inches='tight')"
   ]
  },
  {
   "cell_type": "code",
   "execution_count": 38,
   "metadata": {},
   "outputs": [
    {
     "name": "stderr",
     "output_type": "stream",
     "text": [
      "C:\\Users\\gaban\\AppData\\Local\\Temp\\ipykernel_11060\\205301375.py:11: UserWarning: set_ticklabels() should only be used with a fixed number of ticks, i.e. after set_ticks() or using a FixedLocator.\n",
      "  ax.set_xticklabels(ax.get_xticklabels(),rotation=90, size=10)\n"
     ]
    },
    {
     "data": {
      "image/png": "[encoded data removed]",
      "text/plain": [
       "<Figure size 200x300 with 1 Axes>"
      ]
     },
     "metadata": {},
     "output_type": "display_data"
    }
   ],
   "source": [
    "#separate into 4 groups and label them\n",
    "fig5G, ax = plt.subplots(figsize=(2,3))\n",
    "df_fc_tap63b['xlabel'] = df_fc_tap63b.apply(lambda row: row.cell_line + '\\n' + row.p63RE_type, axis='columns')\n",
    "df_fc_tap63b.replace({'TAp63B\\np53RE+p63RE':'TAp63β\\np53RE+p63RE','TAp63B\\nUnique p63RE':'TAp63β\\nUnique p63RE','pGus\\np53RE+p63RE':'GUS\\np53RE+p63RE','pGus\\nUnique p63RE':'GUS\\nUnique p63RE',}, inplace=True)\n",
    "df_fc_tap63b['xlabel'] = pd.Categorical(df_fc_tap63b['xlabel'], ['GUS\\np53RE+p63RE','TAp63β\\np53RE+p63RE','GUS\\nUnique p63RE','TAp63β\\nUnique p63RE'])\n",
    "sns.histplot(\n",
    "    data=df_fc_tap63b,\n",
    "    x=\"xlabel\", hue=\"activity\", hue_order=['Activating', 'Unchanged','Repressing'],\n",
    "    multiple=\"fill\", stat=\"percent\", palette= act_palette,\n",
    "    discrete=True, shrink=.6,ax=ax).set(ylabel = 'Fraction of Enhancers',xlabel=None)\n",
    "ax.set_xticklabels(ax.get_xticklabels(),rotation=90, size=10)\n",
    "sns.move_legend(ax, \"upper left\", bbox_to_anchor=(1, 1), frameon=False, title = 'Enhancer Activity')\n",
    "fig5G.savefig(os.path.join(fig_out_path,'5G_20240506.pdf'), dpi=300, transparent=True, bbox_inches='tight')"
   ]
  },
  {
   "cell_type": "code",
   "execution_count": 5,
   "metadata": {},
   "outputs": [
    {
     "data": {
      "text/plain": [
       "cell_line  activity  \n",
       "TAp63B     Activating    10973\n",
       "pGus       Unchanged      8470\n",
       "           Activating     5702\n",
       "TAp63B     Unchanged      4876\n",
       "pGus       Repressing     1971\n",
       "TAp63B     Repressing      294\n",
       "dtype: int64"
      ]
     },
     "execution_count": 5,
     "metadata": {},
     "output_type": "execute_result"
    }
   ],
   "source": [
    "#check numbers\n",
    "df_fc_tap63b.value_counts(subset=['cell_line', 'activity'])"
   ]
  },
  {
   "cell_type": "code",
   "execution_count": 1,
   "metadata": {},
   "outputs": [],
   "source": [
    "#2024-05-025\n",
    "#sankey graph for all 4 cell types\n",
    "import pandas as pd\n",
    "import plotly.graph_objects as go\n",
    "import plotly.express as px\n",
    "import plotly\n",
    "import os\n",
    "os.chdir(r'Z:\\gbaniulyte\\MPRA\\AM_STARRSeq\\final_scripts_fastq\\tables')\n",
    "#format\n",
    "tmp = pd.read_csv('p63enh_starrseq_normCounts_matched_MCF10Ap53KO_HaCaT_SCC25_WTmut.csv')\n",
    "tmp = tmp[tmp.enhancer_variant =='WT']\n",
    "tmp_pivot = tmp.pivot(index='loc', columns='cell_line', values='activity').reset_index()\n",
    "\n",
    "sankey_tbl = tmp_pivot.value_counts(subset=['HaCaT','MCF10A p53KO','SCC25']).reset_index()\n",
    "sankey_tbl_ko_hac = tmp_pivot.value_counts(subset=['MCF10A p53KO','HaCaT']).reset_index()\n",
    "sankey_tbl_ko_scc = tmp_pivot.value_counts(subset=['MCF10A p53KO', 'SCC25']).reset_index()\n",
    "\n",
    "sankey_tbl.rename(columns={0:'count'}, inplace=True)\n",
    "sankey_tbl_ko_hac.rename(columns={0:'count'}, inplace=True)\n",
    "sankey_tbl_ko_scc.rename(columns={0:'count'}, inplace=True)\n",
    "\n",
    "sankey_tbl['HaCaT'] = 'HaCat, ' + sankey_tbl['HaCaT'].astype(str)\n",
    "sankey_tbl['MCF10A p53KO'] = 'MCF10A p53KO, ' + sankey_tbl['MCF10A p53KO'].astype(str)\n",
    "sankey_tbl['SCC25'] = 'SCC25, ' + sankey_tbl['SCC25'].astype(str)\n",
    "\n",
    "sankey_tbl_ko_hac['MCF10A p53KO'] = 'MCF10A p53KO, ' + sankey_tbl_ko_hac['MCF10A p53KO'].astype(str)\n",
    "sankey_tbl_ko_hac['HaCaT'] = 'HaCat, ' + sankey_tbl_ko_hac['HaCaT'].astype(str)\n",
    "sankey_tbl_ko_scc['SCC25'] = 'SCC25, ' + sankey_tbl_ko_scc['SCC25'].astype(str)\n",
    "sankey_tbl_ko_scc['MCF10A p53KO'] = 'MCF10A p53KO, ' + sankey_tbl_ko_scc['MCF10A p53KO'].astype(str)\n",
    "\n",
    "source = list(set(sankey_tbl.SCC25.tolist() + sankey_tbl['MCF10A p53KO'].tolist() + sankey_tbl.HaCaT.tolist()))\n",
    "\n",
    "sankey_tbl_ko_hac[['source', 'target']] = sankey_tbl_ko_hac.apply(lambda row: [source.index(row.HaCaT), source.index(row['MCF10A p53KO'])], axis='columns', result_type='expand')\n",
    "sankey_tbl_ko_scc[['source', 'target']] = sankey_tbl_ko_scc.apply(lambda row: [source.index(row['MCF10A p53KO']), source.index(row.SCC25)], axis='columns', result_type='expand')\n",
    "\n",
    "def add_col(col):\n",
    "\tif 'Unchanged' in col: return 'silver'\n",
    "\telif 'Activating' in col: return 'cornflowerblue'\n",
    "\telif 'Repressing' in col: return 'salmon'\n",
    "sankey_tbl_ko_hac['color'] = sankey_tbl_ko_hac['MCF10A p53KO'].apply(lambda x: add_col(x))\n",
    "sankey_tbl_ko_scc['color'] = sankey_tbl_ko_scc['MCF10A p53KO'].apply(lambda x: add_col(x))"
   ]
  },
  {
   "cell_type": "code",
   "execution_count": 6,
   "metadata": {},
   "outputs": [
    {
     "data": {
      "text/plain": [
       "Text(0.5, 1.0, 'Activating enhacners')"
      ]
     },
     "execution_count": 6,
     "metadata": {},
     "output_type": "execute_result"
    },
    {
     "data": {
      "image/png": "[encoded data removed]",
      "text/plain": [
       "<Figure size 640x480 with 1 Axes>"
      ]
     },
     "metadata": {},
     "output_type": "display_data"
    }
   ],
   "source": [
    "tmp\n",
    "import matplotlib.pyplot as plt\n",
    "from matplotlib_venn import venn2\n",
    "ko = set(tmp[(tmp.cell_line == 'MCF10A p53KO') & (tmp.activity == 'Activating')]['loc'].tolist())\n",
    "scc = set(tmp[(tmp.cell_line == 'SCC25') & (tmp.activity == 'Activating')]['loc'].tolist())\n",
    "font = {'family': 'Arial', 'size': 10} # use for labels\n",
    "plt.rc('font', **font) # sets the default font\n",
    "up_treat = venn2([ko,scc], set_labels = ('MCF10A p53KO', 'SCC25'),\n",
    "\t\t\t\t set_colors=(\"lightsteelblue\", \"mediumorchid\"),alpha=0.7)\n",
    "plt.title('Activating enhacners')"
   ]
  },
  {
   "cell_type": "code",
   "execution_count": 61,
   "metadata": {},
   "outputs": [
    {
     "data": {
      "application/vnd.plotly.v1+json": {
       "config": {
        "plotlyServerURL": "https://plot.ly"
       },
       "data": [
        {
         "link": {
          "color": [
           "silver",
           "silver",
           "silver",
           "cornflowerblue",
           "cornflowerblue",
           "cornflowerblue",
           "salmon",
           "salmon",
           "salmon",
           "silver",
           "cornflowerblue",
           "silver",
           "cornflowerblue",
           "silver",
           "salmon",
           "salmon",
           "cornflowerblue",
           "salmon"
          ],
          "source": [
           1,
           1,
           1,
           5,
           5,
           5,
           2,
           2,
           2,
           8,
           8,
           0,
           0,
           7,
           8,
           7,
           7,
           0
          ],
          "target": [
           6,
           3,
           4,
           6,
           4,
           3,
           3,
           6,
           4,
           1,
           5,
           1,
           5,
           1,
           2,
           2,
           5,
           2
          ],
          "value": [
           2826,
           1550,
           1199,
           1007,
           988,
           393,
           264,
           251,
           88,
           4409,
           1646,
           643,
           615,
           523,
           387,
           173,
           127,
           43
          ]
         },
         "node": {
          "color": [
           "cornflowerblue",
           "silver",
           "salmon",
           "salmon",
           "cornflowerblue",
           "cornflowerblue",
           "silver",
           "salmon",
           "silver"
          ],
          "line": {
           "color": "black",
           "width": 0.5
          },
          "pad": 15,
          "thickness": 20
         },
         "type": "sankey"
        }
       ],
       "layout": {
        "autosize": false,
        "height": 400,
        "paper_bgcolor": "rgba(0,0,0,0)",
        "plot_bgcolor": "rgba(0,0,0,0)",
        "template": {
         "data": {
          "bar": [
           {
            "error_x": {
             "color": "#2a3f5f"
            },
            "error_y": {
             "color": "#2a3f5f"
            },
            "marker": {
             "line": {
              "color": "#E5ECF6",
              "width": 0.5
             },
             "pattern": {
              "fillmode": "overlay",
              "size": 10,
              "solidity": 0.2
             }
            },
            "type": "bar"
           }
          ],
          "barpolar": [
           {
            "marker": {
             "line": {
              "color": "#E5ECF6",
              "width": 0.5
             },
             "pattern": {
              "fillmode": "overlay",
              "size": 10,
              "solidity": 0.2
             }
            },
            "type": "barpolar"
           }
          ],
          "carpet": [
           {
            "aaxis": {
             "endlinecolor": "#2a3f5f",
             "gridcolor": "white",
             "linecolor": "white",
             "minorgridcolor": "white",
             "startlinecolor": "#2a3f5f"
            },
            "baxis": {
             "endlinecolor": "#2a3f5f",
             "gridcolor": "white",
             "linecolor": "white",
             "minorgridcolor": "white",
             "startlinecolor": "#2a3f5f"
            },
            "type": "carpet"
           }
          ],
          "choropleth": [
           {
            "colorbar": {
             "outlinewidth": 0,
             "ticks": ""
            },
            "type": "choropleth"
           }
          ],
          "contour": [
           {
            "colorbar": {
             "outlinewidth": 0,
             "ticks": ""
            },
            "colorscale": [
             [
              0,
              "#0d0887"
             ],
             [
              0.1111111111111111,
              "#46039f"
             ],
             [
              0.2222222222222222,
              "#7201a8"
             ],
             [
              0.3333333333333333,
              "#9c179e"
             ],
             [
              0.4444444444444444,
              "#bd3786"
             ],
             [
              0.5555555555555556,
              "#d8576b"
             ],
             [
              0.6666666666666666,
              "#ed7953"
             ],
             [
              0.7777777777777778,
              "#fb9f3a"
             ],
             [
              0.8888888888888888,
              "#fdca26"
             ],
             [
              1,
              "#f0f921"
             ]
            ],
            "type": "contour"
           }
          ],
          "contourcarpet": [
           {
            "colorbar": {
             "outlinewidth": 0,
             "ticks": ""
            },
            "type": "contourcarpet"
           }
          ],
          "heatmap": [
           {
            "colorbar": {
             "outlinewidth": 0,
             "ticks": ""
            },
            "colorscale": [
             [
              0,
              "#0d0887"
             ],
             [
              0.1111111111111111,
              "#46039f"
             ],
             [
              0.2222222222222222,
              "#7201a8"
             ],
             [
              0.3333333333333333,
              "#9c179e"
             ],
             [
              0.4444444444444444,
              "#bd3786"
             ],
             [
              0.5555555555555556,
              "#d8576b"
             ],
             [
              0.6666666666666666,
              "#ed7953"
             ],
             [
              0.7777777777777778,
              "#fb9f3a"
             ],
             [
              0.8888888888888888,
              "#fdca26"
             ],
             [
              1,
              "#f0f921"
             ]
            ],
            "type": "heatmap"
           }
          ],
          "heatmapgl": [
           {
            "colorbar": {
             "outlinewidth": 0,
             "ticks": ""
            },
            "colorscale": [
             [
              0,
              "#0d0887"
             ],
             [
              0.1111111111111111,
              "#46039f"
             ],
             [
              0.2222222222222222,
              "#7201a8"
             ],
             [
              0.3333333333333333,
              "#9c179e"
             ],
             [
              0.4444444444444444,
              "#bd3786"
             ],
             [
              0.5555555555555556,
              "#d8576b"
             ],
             [
              0.6666666666666666,
              "#ed7953"
             ],
             [
              0.7777777777777778,
              "#fb9f3a"
             ],
             [
              0.8888888888888888,
              "#fdca26"
             ],
             [
              1,
              "#f0f921"
             ]
            ],
            "type": "heatmapgl"
           }
          ],
          "histogram": [
           {
            "marker": {
             "pattern": {
              "fillmode": "overlay",
              "size": 10,
              "solidity": 0.2
             }
            },
            "type": "histogram"
           }
          ],
          "histogram2d": [
           {
            "colorbar": {
             "outlinewidth": 0,
             "ticks": ""
            },
            "colorscale": [
             [
              0,
              "#0d0887"
             ],
             [
              0.1111111111111111,
              "#46039f"
             ],
             [
              0.2222222222222222,
              "#7201a8"
             ],
             [
              0.3333333333333333,
              "#9c179e"
             ],
             [
              0.4444444444444444,
              "#bd3786"
             ],
             [
              0.5555555555555556,
              "#d8576b"
             ],
             [
              0.6666666666666666,
              "#ed7953"
             ],
             [
              0.7777777777777778,
              "#fb9f3a"
             ],
             [
              0.8888888888888888,
              "#fdca26"
             ],
             [
              1,
              "#f0f921"
             ]
            ],
            "type": "histogram2d"
           }
          ],
          "histogram2dcontour": [
           {
            "colorbar": {
             "outlinewidth": 0,
             "ticks": ""
            },
            "colorscale": [
             [
              0,
              "#0d0887"
             ],
             [
              0.1111111111111111,
              "#46039f"
             ],
             [
              0.2222222222222222,
              "#7201a8"
             ],
             [
              0.3333333333333333,
              "#9c179e"
             ],
             [
              0.4444444444444444,
              "#bd3786"
             ],
             [
              0.5555555555555556,
              "#d8576b"
             ],
             [
              0.6666666666666666,
              "#ed7953"
             ],
             [
              0.7777777777777778,
              "#fb9f3a"
             ],
             [
              0.8888888888888888,
              "#fdca26"
             ],
             [
              1,
              "#f0f921"
             ]
            ],
            "type": "histogram2dcontour"
           }
          ],
          "mesh3d": [
           {
            "colorbar": {
             "outlinewidth": 0,
             "ticks": ""
            },
            "type": "mesh3d"
           }
          ],
          "parcoords": [
           {
            "line": {
             "colorbar": {
              "outlinewidth": 0,
              "ticks": ""
             }
            },
            "type": "parcoords"
           }
          ],
          "pie": [
           {
            "automargin": true,
            "type": "pie"
           }
          ],
          "scatter": [
           {
            "fillpattern": {
             "fillmode": "overlay",
             "size": 10,
             "solidity": 0.2
            },
            "type": "scatter"
           }
          ],
          "scatter3d": [
           {
            "line": {
             "colorbar": {
              "outlinewidth": 0,
              "ticks": ""
             }
            },
            "marker": {
             "colorbar": {
              "outlinewidth": 0,
              "ticks": ""
             }
            },
            "type": "scatter3d"
           }
          ],
          "scattercarpet": [
           {
            "marker": {
             "colorbar": {
              "outlinewidth": 0,
              "ticks": ""
             }
            },
            "type": "scattercarpet"
           }
          ],
          "scattergeo": [
           {
            "marker": {
             "colorbar": {
              "outlinewidth": 0,
              "ticks": ""
             }
            },
            "type": "scattergeo"
           }
          ],
          "scattergl": [
           {
            "marker": {
             "colorbar": {
              "outlinewidth": 0,
              "ticks": ""
             }
            },
            "type": "scattergl"
           }
          ],
          "scattermapbox": [
           {
            "marker": {
             "colorbar": {
              "outlinewidth": 0,
              "ticks": ""
             }
            },
            "type": "scattermapbox"
           }
          ],
          "scatterpolar": [
           {
            "marker": {
             "colorbar": {
              "outlinewidth": 0,
              "ticks": ""
             }
            },
            "type": "scatterpolar"
           }
          ],
          "scatterpolargl": [
           {
            "marker": {
             "colorbar": {
              "outlinewidth": 0,
              "ticks": ""
             }
            },
            "type": "scatterpolargl"
           }
          ],
          "scatterternary": [
           {
            "marker": {
             "colorbar": {
              "outlinewidth": 0,
              "ticks": ""
             }
            },
            "type": "scatterternary"
           }
          ],
          "surface": [
           {
            "colorbar": {
             "outlinewidth": 0,
             "ticks": ""
            },
            "colorscale": [
             [
              0,
              "#0d0887"
             ],
             [
              0.1111111111111111,
              "#46039f"
             ],
             [
              0.2222222222222222,
              "#7201a8"
             ],
             [
              0.3333333333333333,
              "#9c179e"
             ],
             [
              0.4444444444444444,
              "#bd3786"
             ],
             [
              0.5555555555555556,
              "#d8576b"
             ],
             [
              0.6666666666666666,
              "#ed7953"
             ],
             [
              0.7777777777777778,
              "#fb9f3a"
             ],
             [
              0.8888888888888888,
              "#fdca26"
             ],
             [
              1,
              "#f0f921"
             ]
            ],
            "type": "surface"
           }
          ],
          "table": [
           {
            "cells": {
             "fill": {
              "color": "#EBF0F8"
             },
             "line": {
              "color": "white"
             }
            },
            "header": {
             "fill": {
              "color": "#C8D4E3"
             },
             "line": {
              "color": "white"
             }
            },
            "type": "table"
           }
          ]
         },
         "layout": {
          "annotationdefaults": {
           "arrowcolor": "#2a3f5f",
           "arrowhead": 0,
           "arrowwidth": 1
          },
          "autotypenumbers": "strict",
          "coloraxis": {
           "colorbar": {
            "outlinewidth": 0,
            "ticks": ""
           }
          },
          "colorscale": {
           "diverging": [
            [
             0,
             "#8e0152"
            ],
            [
             0.1,
             "#c51b7d"
            ],
            [
             0.2,
             "#de77ae"
            ],
            [
             0.3,
             "#f1b6da"
            ],
            [
             0.4,
             "#fde0ef"
            ],
            [
             0.5,
             "#f7f7f7"
            ],
            [
             0.6,
             "#e6f5d0"
            ],
            [
             0.7,
             "#b8e186"
            ],
            [
             0.8,
             "#7fbc41"
            ],
            [
             0.9,
             "#4d9221"
            ],
            [
             1,
             "#276419"
            ]
           ],
           "sequential": [
            [
             0,
             "#0d0887"
            ],
            [
             0.1111111111111111,
             "#46039f"
            ],
            [
             0.2222222222222222,
             "#7201a8"
            ],
            [
             0.3333333333333333,
             "#9c179e"
            ],
            [
             0.4444444444444444,
             "#bd3786"
            ],
            [
             0.5555555555555556,
             "#d8576b"
            ],
            [
             0.6666666666666666,
             "#ed7953"
            ],
            [
             0.7777777777777778,
             "#fb9f3a"
            ],
            [
             0.8888888888888888,
             "#fdca26"
            ],
            [
             1,
             "#f0f921"
            ]
           ],
           "sequentialminus": [
            [
             0,
             "#0d0887"
            ],
            [
             0.1111111111111111,
             "#46039f"
            ],
            [
             0.2222222222222222,
             "#7201a8"
            ],
            [
             0.3333333333333333,
             "#9c179e"
            ],
            [
             0.4444444444444444,
             "#bd3786"
            ],
            [
             0.5555555555555556,
             "#d8576b"
            ],
            [
             0.6666666666666666,
             "#ed7953"
            ],
            [
             0.7777777777777778,
             "#fb9f3a"
            ],
            [
             0.8888888888888888,
             "#fdca26"
            ],
            [
             1,
             "#f0f921"
            ]
           ]
          },
          "colorway": [
           "#636efa",
           "#EF553B",
           "#00cc96",
           "#ab63fa",
           "#FFA15A",
           "#19d3f3",
           "#FF6692",
           "#B6E880",
           "#FF97FF",
           "#FECB52"
          ],
          "font": {
           "color": "#2a3f5f"
          },
          "geo": {
           "bgcolor": "white",
           "lakecolor": "white",
           "landcolor": "#E5ECF6",
           "showlakes": true,
           "showland": true,
           "subunitcolor": "white"
          },
          "hoverlabel": {
           "align": "left"
          },
          "hovermode": "closest",
          "mapbox": {
           "style": "light"
          },
          "paper_bgcolor": "white",
          "plot_bgcolor": "#E5ECF6",
          "polar": {
           "angularaxis": {
            "gridcolor": "white",
            "linecolor": "white",
            "ticks": ""
           },
           "bgcolor": "#E5ECF6",
           "radialaxis": {
            "gridcolor": "white",
            "linecolor": "white",
            "ticks": ""
           }
          },
          "scene": {
           "xaxis": {
            "backgroundcolor": "#E5ECF6",
            "gridcolor": "white",
            "gridwidth": 2,
            "linecolor": "white",
            "showbackground": true,
            "ticks": "",
            "zerolinecolor": "white"
           },
           "yaxis": {
            "backgroundcolor": "#E5ECF6",
            "gridcolor": "white",
            "gridwidth": 2,
            "linecolor": "white",
            "showbackground": true,
            "ticks": "",
            "zerolinecolor": "white"
           },
           "zaxis": {
            "backgroundcolor": "#E5ECF6",
            "gridcolor": "white",
            "gridwidth": 2,
            "linecolor": "white",
            "showbackground": true,
            "ticks": "",
            "zerolinecolor": "white"
           }
          },
          "shapedefaults": {
           "line": {
            "color": "#2a3f5f"
           }
          },
          "ternary": {
           "aaxis": {
            "gridcolor": "white",
            "linecolor": "white",
            "ticks": ""
           },
           "baxis": {
            "gridcolor": "white",
            "linecolor": "white",
            "ticks": ""
           },
           "bgcolor": "#E5ECF6",
           "caxis": {
            "gridcolor": "white",
            "linecolor": "white",
            "ticks": ""
           }
          },
          "title": {
           "x": 0.05
          },
          "xaxis": {
           "automargin": true,
           "gridcolor": "white",
           "linecolor": "white",
           "ticks": "",
           "title": {
            "standoff": 15
           },
           "zerolinecolor": "white",
           "zerolinewidth": 2
          },
          "yaxis": {
           "automargin": true,
           "gridcolor": "white",
           "linecolor": "white",
           "ticks": "",
           "title": {
            "standoff": 15
           },
           "zerolinecolor": "white",
           "zerolinewidth": 2
          }
         }
        },
        "width": 400
       }
      }
     },
     "metadata": {},
     "output_type": "display_data"
    }
   ],
   "source": [
    "#this is with all three\n",
    "from plotly.graph_objs import *\n",
    "\n",
    "fig5C=go.Figure(data=[go.Sankey(\n",
    "    node = dict(pad = 15,thickness = 20,line = dict(color = \"black\", width = 0.5),\n",
    "    color = ['cornflowerblue', 'silver','salmon', 'salmon', 'cornflowerblue', 'cornflowerblue','silver','salmon','silver']),\n",
    "    link = dict(\n",
    "      source = sankey_tbl_ko_scc.source.tolist() + sankey_tbl_ko_hac.source.tolist(), # indices correspond to labels, eg A1, A2, A1, B1, ...\n",
    "      target = sankey_tbl_ko_scc.target.tolist() + sankey_tbl_ko_hac.target.tolist(),\n",
    "      value = sankey_tbl_ko_scc['count'].tolist() + sankey_tbl_ko_hac['count'].tolist(),\n",
    "\t  color = sankey_tbl_ko_scc.color.tolist() + sankey_tbl_ko_hac.color.tolist())\n",
    ")],\n",
    "\tlayout = Layout(paper_bgcolor='rgba(0,0,0,0)', plot_bgcolor='rgba(0,0,0,0)'))\n",
    "fig5C.update_layout(autosize=False,width=400,height=400)\n",
    "fig5C.show()\n",
    "fig5C.write_image(os.path.join(fig_out_path,\"5C_20240502.pdf\"))"
   ]
  },
  {
   "cell_type": "code",
   "execution_count": 36,
   "metadata": {},
   "outputs": [
    {
     "data": {
      "text/plain": [
       "cell_line     activity  \n",
       "HaCaT         Unchanged     6442\n",
       "MCF10A p53KO  Unchanged     5575\n",
       "SCC25         Unchanged     4084\n",
       "MCF10A p53KO  Activating    2388\n",
       "SCC25         Activating    2275\n",
       "              Repressing    2207\n",
       "HaCaT         Activating    1301\n",
       "              Repressing     823\n",
       "MCF10A p53KO  Repressing     603\n",
       "dtype: int64"
      ]
     },
     "execution_count": 36,
     "metadata": {},
     "output_type": "execute_result"
    }
   ],
   "source": [
    "df_fc.value_counts(subset=['cell_line','activity'])"
   ]
  },
  {
   "cell_type": "code",
   "execution_count": 2,
   "metadata": {},
   "outputs": [
    {
     "name": "stderr",
     "output_type": "stream",
     "text": [
      "C:\\Users\\gaban\\AppData\\Local\\Temp\\ipykernel_26176\\2457477562.py:9: UserWarning: set_ticklabels() should only be used with a fixed number of ticks, i.e. after set_ticks() or using a FixedLocator.\n",
      "  ax.set_xticklabels(ax.get_xticklabels(),rotation=90, size=10)\n"
     ]
    },
    {
     "data": {
      "image/png": "[encoded data removed]",
      "text/plain": [
       "<Figure size 100x300 with 1 Axes>"
      ]
     },
     "metadata": {},
     "output_type": "display_data"
    }
   ],
   "source": [
    "#separate into 4 groups and label them\n",
    "fig5F, ax = plt.subplots(figsize=(1,3))\n",
    "df_fc_tap63b['cell_line'] = pd.Categorical(df_fc_tap63b['cell_line'], ['pGus','TAp63B'])\n",
    "sns.histplot(\n",
    "    data=df_fc_tap63b,\n",
    "    x=\"cell_line\", hue=\"activity\", hue_order=['Activating', 'Unchanged','Repressing'],\n",
    "    multiple=\"fill\", stat=\"percent\", palette= act_palette,\n",
    "    discrete=True, shrink=.6,ax=ax).set(ylabel = 'Fraction of Enhancers',xlabel=None)\n",
    "ax.set_xticklabels(ax.get_xticklabels(),rotation=90, size=10)\n",
    "sns.move_legend(ax, \"upper left\", bbox_to_anchor=(1, 1), frameon=False, title = 'Enhancer Activity')\n",
    "fig5F.savefig(os.path.join(fig_out_path,'5F_20240430.pdf'), dpi=300, transparent=True, bbox_inches='tight')"
   ]
  },
  {
   "cell_type": "markdown",
   "metadata": {},
   "source": [
    "# TF motif enrichment in activating or repressing enhanser using Homer\n",
    "- Create 3 lists of p63RE coordinates based on enhancer activity (1.5FC threshold) in SCC25\n",
    "- Use homer with the foliwing parameters:\n",
    "\t+ *findMotifsGenome.pl*\n",
    "\t+ List of 'activatin' or 'Repressing' p63RE coordinates\n",
    "\t+ *-size* 60 (looks up sequence 60nt in each direction from coordinate center; MPRA enhancer fragments are 119-120nt)\n",
    "\t+ *-bg* list of 'Unchanged' p63RE coordinates\n",
    "- Use the output knownmotifs.txt table to plot motif enrichment"
   ]
  },
  {
   "cell_type": "code",
   "execution_count": 23,
   "metadata": {},
   "outputs": [],
   "source": [
    "#import libraries\n",
    "import pandas as pd\n",
    "import os\n",
    "order = ['Activating', 'Unchanged', 'Repressing']\n",
    "#import key tables\n",
    "os.chdir(r'Z:\\gbaniulyte\\MPRA\\AM_STARRSeq\\final_scripts_fastq\\tables')\n",
    "out_path = r'Z:\\gbaniulyte\\MPRA\\AM_STARRSeq\\final_scripts_fastq\\homer'\n",
    "df = pd.read_csv('p63enh_starrseq_normCounts_matched_MCF10Ap53KO_HaCaT_SCC25_WTmut.csv', usecols=['loc', 'cell_line', 'activity', 'enhancer_variant', 'strand'])\n",
    "#only need p53KOs and one variant to remove duplicated locations\n",
    "df = df[(df.cell_line == 'SCC25') & (df.enhancer_variant == 'WT')]\n",
    "df[['chrom','p63RE_start','p63RE_end']] = df.apply(lambda row: row['loc'].split('_'), result_type='expand', axis='columns')\n",
    "df_act = df[df.activity == 'Activating']\n",
    "df_rep = df[df.activity == 'Repressing']\n",
    "df_unch = df[df.activity == 'Unchanged']\n",
    "df_act.loc[:,['loc','chrom','p63RE_start','p63RE_end','strand']].to_csv(os.path.join(out_path,'homer_act_1.5FC_SCC25.txt'), index=False, header=False,sep='\\t')\n",
    "df_rep.loc[:,['loc','chrom','p63RE_start','p63RE_end','strand']].to_csv(os.path.join(out_path,'homer_rep_1.5FC_SCC25.txt'), index=False, header=False,sep='\\t')\n",
    "df_unch.loc[:,['loc','chrom','p63RE_start','p63RE_end','strand']].to_csv(os.path.join(out_path,'homer_unch_1.5FC_SCC25.txt'), index=False, header=False,sep='\\t')\n",
    "df = pd.read_csv('p63enh_starrseq_normCounts_matched_MCF10Ap53KO_HaCaT_SCC25_WTmut.csv', usecols=['loc', 'cell_line', 'activity', 'enhancer_variant', 'strand'])\n",
    "#only need p53KOs and one variant to remove duplicated locations\n",
    "df = df[(df.cell_line == 'MCF10A p53KO') & (df.enhancer_variant == 'WT')]\n",
    "df[['chrom','p63RE_start','p63RE_end']] = df.apply(lambda row: row['loc'].split('_'), result_type='expand', axis='columns')\n",
    "df_act = df[df.activity == 'Activating']\n",
    "df_rep = df[df.activity == 'Repressing']\n",
    "df_unch = df[df.activity == 'Unchanged']\n",
    "df_act.loc[:,['loc','chrom','p63RE_start','p63RE_end','strand']].to_csv(os.path.join(out_path,'homer_act_1.5FC_MCF10Ap53KO_fig5.txt'), index=False, header=False,sep='\\t')\n",
    "df_rep.loc[:,['loc','chrom','p63RE_start','p63RE_end','strand']].to_csv(os.path.join(out_path,'homer_rep_1.5FC_MCF10Ap53KO_fig5.txt'), index=False, header=False,sep='\\t')\n",
    "df_unch.loc[:,['loc','chrom','p63RE_start','p63RE_end','strand']].to_csv(os.path.join(out_path,'homer_unch_1.5FC_MCF10Ap53KO_fig5.txt'), index=False, header=False,sep='\\t')\n",
    "#run homer motif enrichemnt using these act/rep files and unchanged enhancers as background"
   ]
  },
  {
   "cell_type": "code",
   "execution_count": 13,
   "metadata": {},
   "outputs": [],
   "source": [
    "#read in and format homer output\n",
    "import pandas as pd\n",
    "import seaborn as sns\n",
    "import matplotlib.pyplot as plt\n",
    "import os\n",
    "#generate statannotations-compatable list of comparisons\n",
    "#dotplot\n",
    "def overlap(r, tbl):\n",
    "\ttarget = round(r[tbl.columns[5]])\n",
    "\tperc = float(r['% of Target Sequences with Motif'].strip('%'))\n",
    "\tif perc == 0.0:\n",
    "\t\treturn '0'\n",
    "\ttotal = round((target * 100) / perc)\n",
    "\tovlp = str(target) + '/' + str(total)\n",
    "\treturn ovlp\n",
    "def size(r):\n",
    "\ttarget = float(r['% of Target Sequences with Motif'].strip('%'))\n",
    "\tbg = float(r['% of Background Sequences with Motif'].strip('%'))\n",
    "\tif bg == 0.0:\n",
    "\t\treturn '0'\n",
    "\tovlp = target / bg\n",
    "\treturn ovlp\n",
    "fig_out_path = r'Z:\\gbaniulyte\\MPRA\\AM_STARRSeq\\final_scripts_fastq\\figures'\n",
    "homer_path = r'Z:\\gbaniulyte\\MPRA\\AM_STARRSeq\\final_scripts_fastq\\homer'\n",
    "scc = pd.read_csv(os.path.join(homer_path,'homer_motifs_act_1.5FC_SCC25_bg_unch_fig5','knownResults.txt'), sep='\\t')\n",
    "pko = pd.read_csv(os.path.join(homer_path,'homer_motifs_act_1.5FC_MCF10Ap53KO_bg_unch_fig5','knownResults.txt'), sep='\\t')\n",
    "top = 50 #top motifs\n",
    "pko['cell_line'], scc['cell_line'] = 'MCF10A\\n' + '$\\it{TP53}$' + '-/-','SCC25' #changes TP53 to italics\n",
    "#rename variable columns for concatenation\n",
    "for tbl in [pko, scc]:\n",
    "\ttbl.rename(columns={tbl.columns[5]:'# of Target Sequences with Motif',\n",
    "\ttbl.columns[7]:'# of Background  Sequences with Motif'}, inplace=True)\n",
    "#merge into one long table\n",
    "long = pd.concat([pko, scc],axis=0, ignore_index=True)\n",
    "#simplify motif name by exrtacting short name\n",
    "long['tf'] = long['Motif Name'].apply(lambda x: x[:x.find('(')])\n",
    "#calculate % overlap\n",
    "long['Overlap'] = long.apply(lambda row: overlap(row, long),axis='columns')\n",
    "long['Enrichment over background'] = long.apply(lambda row: size(row), axis='columns')\n",
    "long.rename(columns={'q-value (Benjamini)':\"Adjusted P-value\"},inplace=True)\n",
    "long = long[(long[\"Adjusted P-value\"] < 0.05) & (long['Motif Name'] != 'p53(p53)/mES-cMyc-ChIP-Seq(GSE11431)/Homer')]\n",
    "#use this if need to remove p53/63/73 since they're always enriched\n",
    "# filtered = long[(~long.tf.isin(['p53','p63','p73'])) & (long.Overlap != '0') & (long['Adjusted P-value'] < 0.05)]\n",
    "# new  = pd.concat([filtered[filtered.cell_line == 'SCC25'].nsmallest(top, 'Adjusted P-value'), filtered[filtered.cell_line == 'MCF10A\\np53KO'].nsmallest(top, 'Adjusted P-value')])\n",
    "# new.sort_values(by='Adjusted P-value', inplace=True)\n",
    "all_tf = list(set(long.tf.tolist()))\n",
    "scc_tf = list(set(long[long.cell_line == 'SCC25'].tf.tolist()))\n",
    "pko_tf = list(set(long[long.cell_line != 'SCC25'].tf.tolist()))\n",
    "shared = list(set(pko_tf).intersection(scc_tf))\n",
    "uniq_scc = [tf for tf in scc_tf if tf not in shared]\n",
    "uniq_pko = [tf for tf in pko_tf if tf not in shared]"
   ]
  },
  {
   "cell_type": "code",
   "execution_count": 15,
   "metadata": {},
   "outputs": [
    {
     "name": "stderr",
     "output_type": "stream",
     "text": [
      "C:\\Users\\gaban\\AppData\\Local\\Temp\\ipykernel_5648\\3450127146.py:3: SettingWithCopyWarning: \n",
      "A value is trying to be set on a copy of a slice from a DataFrame\n",
      "\n",
      "See the caveats in the documentation: https://pandas.pydata.org/pandas-docs/stable/user_guide/indexing.html#returning-a-view-versus-a-copy\n",
      "  df_shared.sort_values(by='tf', inplace=True)\n"
     ]
    },
    {
     "data": {
      "image/png": "[encoded data removed]",
      "text/plain": [
       "<Figure size 200x800 with 2 Axes>"
      ]
     },
     "metadata": {},
     "output_type": "display_data"
    }
   ],
   "source": [
    "sns.set_style({'axes.grid.axis' : 'y','axes.grid' : True})\n",
    "df_shared = long[long.tf.isin(shared)]\n",
    "df_shared.sort_values(by='tf', inplace=True)\n",
    "fig5F, ax = plt.subplots(figsize=(2,8))\n",
    "sns.scatterplot(data=df_shared, x='cell_line', y='tf', hue='Log P-value', size= 'Enrichment over background',\n",
    "\t\t\t\tsizes=(10,250),palette='viridis',edgecolor='black',ax=ax).set(ylabel = None,xlim=(-0.5, 1.5), title='Enriched shared motifs\\nActivating enhancers', xlabel=None)\n",
    "ax.axes.xaxis.grid(False)\n",
    "norm = plt.Normalize(df_shared['Log P-value'].min(), df_shared['Log P-value'].max())\n",
    "cmap = sns.cubehelix_palette(light=1, as_cmap=True)\n",
    "sm = plt.cm.ScalarMappable(cmap='viridis', norm=norm)\n",
    "sm.set_array([])\n",
    "cax = fig5F.add_axes([ax.get_position().x1+0.22, ax.get_position().y0+0.35, 0.1, ax.get_position().height / 5])\n",
    "ax.figure.colorbar(sm, cax=cax)\n",
    "h, l = ax.get_legend_handles_labels()\n",
    "# slice the appropriate section of l and h to include in the legend\n",
    "ax.legend(h[7:], l[7:], bbox_to_anchor=(1, 1), fontsize=10,frameon = False, title='Enrichment over\\nbackground')\n",
    "fig5F.savefig(os.path.join(fig_out_path,'5F_20240508.eps'), dpi=300, transparent=True, bbox_inches='tight')"
   ]
  },
  {
   "cell_type": "code",
   "execution_count": 18,
   "metadata": {},
   "outputs": [
    {
     "name": "stderr",
     "output_type": "stream",
     "text": [
      "C:\\Users\\gaban\\AppData\\Local\\Temp\\ipykernel_5648\\714061940.py:2: SettingWithCopyWarning: \n",
      "A value is trying to be set on a copy of a slice from a DataFrame\n",
      "\n",
      "See the caveats in the documentation: https://pandas.pydata.org/pandas-docs/stable/user_guide/indexing.html#returning-a-view-versus-a-copy\n",
      "  df_uniq.sort_values(by='tf', inplace=True)\n"
     ]
    },
    {
     "data": {
      "image/png": "[encoded data removed]",
      "text/plain": [
       "<Figure size 200x1000 with 2 Axes>"
      ]
     },
     "metadata": {},
     "output_type": "display_data"
    }
   ],
   "source": [
    "df_uniq = long[long.tf.isin(uniq_pko + uniq_scc)]\n",
    "df_uniq.sort_values(by='tf', inplace=True)\n",
    "fig5E, ax = plt.subplots(figsize=(2,10))\n",
    "sns.scatterplot(data=df_uniq, x='cell_line', y='tf', hue='Log P-value', size= 'Enrichment over background',\n",
    "\t\t\t\tsizes=(10,150),palette='viridis',edgecolor='black',ax=ax).set(ylabel = None,xlim=(-0.5, 1.5), title='Enriched unique motifs\\nActivating enhancers', xlabel=None)\n",
    "ax.axes.xaxis.grid(False)\n",
    "norm = plt.Normalize(df_uniq['Log P-value'].min(), df_uniq['Log P-value'].max())\n",
    "cmap = sns.cubehelix_palette(light=1, as_cmap=True)\n",
    "sm = plt.cm.ScalarMappable(cmap='viridis', norm=norm)\n",
    "sm.set_array([])\n",
    "cax = fig5E.add_axes([ax.get_position().x1+0.24, ax.get_position().y0+0.35, 0.1, ax.get_position().height / 5])\n",
    "ax.figure.colorbar(sm, cax=cax)\n",
    "h, l = ax.get_legend_handles_labels()\n",
    "# slice the appropriate section of l and h to include in the legend\n",
    "ax.legend(h[8:], l[8:], bbox_to_anchor=(1, 1), fontsize=10,frameon = False, title='Enrichment over\\nbackground')\n",
    "fig5E.savefig(os.path.join(fig_out_path,'5E_20240508.eps'), dpi=300, transparent=True, bbox_inches='tight')"
   ]
  }
 ],
 "metadata": {
  "kernelspec": {
   "display_name": "Python 3",
   "language": "python",
   "name": "python3"
  },
  "language_info": {
   "codemirror_mode": {
    "name": "ipython",
    "version": 3
   },
   "file_extension": ".py",
   "mimetype": "text/x-python",
   "name": "python",
   "nbconvert_exporter": "python",
   "pygments_lexer": "ipython3",
   "version": "3.10.7"
  }
 },
 "nbformat": 4,
 "nbformat_minor": 2
}
